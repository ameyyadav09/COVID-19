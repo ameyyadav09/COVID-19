{
 "cells": [
  {
   "cell_type": "code",
   "execution_count": 24,
   "metadata": {},
   "outputs": [],
   "source": [
    "import os\n",
    "import glob\n",
    "import numpy as np\n",
    "import pandas as pd\n",
    "import matplotlib.pyplot as plt\n",
    "from mpl_toolkits.basemap import Basemap\n",
    "\n",
    "%matplotlib inline"
   ]
  },
  {
   "cell_type": "code",
   "execution_count": null,
   "metadata": {},
   "outputs": [],
   "source": []
  },
  {
   "cell_type": "code",
   "execution_count": 2,
   "metadata": {},
   "outputs": [],
   "source": [
    "confirmed_cases_path = \"csse_covid_19_data\\\\csse_covid_19_time_series\\\\time_series_19-covid-Confirmed.csv\"\n",
    "deaths_path = \"csse_covid_19_data/csse_covid_19_time_series/time_series_19-covid-Deaths.csv\"\n",
    "cured_path = \"csse_covid_19_data/csse_covid_19_time_series/time_series_19-covid-Recovered.csv\""
   ]
  },
  {
   "cell_type": "code",
   "execution_count": 7,
   "metadata": {},
   "outputs": [
    {
     "data": {
      "text/html": [
       "<div>\n",
       "<style scoped>\n",
       "    .dataframe tbody tr th:only-of-type {\n",
       "        vertical-align: middle;\n",
       "    }\n",
       "\n",
       "    .dataframe tbody tr th {\n",
       "        vertical-align: top;\n",
       "    }\n",
       "\n",
       "    .dataframe thead th {\n",
       "        text-align: right;\n",
       "    }\n",
       "</style>\n",
       "<table border=\"1\" class=\"dataframe\">\n",
       "  <thead>\n",
       "    <tr style=\"text-align: right;\">\n",
       "      <th></th>\n",
       "      <th>Province/State</th>\n",
       "      <th>Country/Region</th>\n",
       "      <th>Lat</th>\n",
       "      <th>Long</th>\n",
       "      <th>1/22/20</th>\n",
       "      <th>1/23/20</th>\n",
       "      <th>1/24/20</th>\n",
       "      <th>1/25/20</th>\n",
       "      <th>1/26/20</th>\n",
       "      <th>1/27/20</th>\n",
       "      <th>...</th>\n",
       "      <th>2/29/20</th>\n",
       "      <th>3/1/20</th>\n",
       "      <th>3/2/20</th>\n",
       "      <th>3/3/20</th>\n",
       "      <th>3/4/20</th>\n",
       "      <th>3/5/20</th>\n",
       "      <th>3/6/20</th>\n",
       "      <th>3/7/20</th>\n",
       "      <th>3/8/20</th>\n",
       "      <th>3/9/20</th>\n",
       "    </tr>\n",
       "  </thead>\n",
       "  <tbody>\n",
       "    <tr>\n",
       "      <th>0</th>\n",
       "      <td>Anhui</td>\n",
       "      <td>Mainland China</td>\n",
       "      <td>31.8257</td>\n",
       "      <td>117.2264</td>\n",
       "      <td>1</td>\n",
       "      <td>9</td>\n",
       "      <td>15</td>\n",
       "      <td>39</td>\n",
       "      <td>60</td>\n",
       "      <td>70</td>\n",
       "      <td>...</td>\n",
       "      <td>990</td>\n",
       "      <td>990</td>\n",
       "      <td>990</td>\n",
       "      <td>990</td>\n",
       "      <td>990</td>\n",
       "      <td>990</td>\n",
       "      <td>990</td>\n",
       "      <td>990</td>\n",
       "      <td>990</td>\n",
       "      <td>990</td>\n",
       "    </tr>\n",
       "    <tr>\n",
       "      <th>1</th>\n",
       "      <td>Beijing</td>\n",
       "      <td>Mainland China</td>\n",
       "      <td>40.1824</td>\n",
       "      <td>116.4142</td>\n",
       "      <td>14</td>\n",
       "      <td>22</td>\n",
       "      <td>36</td>\n",
       "      <td>41</td>\n",
       "      <td>68</td>\n",
       "      <td>80</td>\n",
       "      <td>...</td>\n",
       "      <td>411</td>\n",
       "      <td>413</td>\n",
       "      <td>414</td>\n",
       "      <td>414</td>\n",
       "      <td>418</td>\n",
       "      <td>418</td>\n",
       "      <td>422</td>\n",
       "      <td>426</td>\n",
       "      <td>428</td>\n",
       "      <td>428</td>\n",
       "    </tr>\n",
       "    <tr>\n",
       "      <th>2</th>\n",
       "      <td>Chongqing</td>\n",
       "      <td>Mainland China</td>\n",
       "      <td>30.0572</td>\n",
       "      <td>107.8740</td>\n",
       "      <td>6</td>\n",
       "      <td>9</td>\n",
       "      <td>27</td>\n",
       "      <td>57</td>\n",
       "      <td>75</td>\n",
       "      <td>110</td>\n",
       "      <td>...</td>\n",
       "      <td>576</td>\n",
       "      <td>576</td>\n",
       "      <td>576</td>\n",
       "      <td>576</td>\n",
       "      <td>576</td>\n",
       "      <td>576</td>\n",
       "      <td>576</td>\n",
       "      <td>576</td>\n",
       "      <td>576</td>\n",
       "      <td>576</td>\n",
       "    </tr>\n",
       "    <tr>\n",
       "      <th>3</th>\n",
       "      <td>Fujian</td>\n",
       "      <td>Mainland China</td>\n",
       "      <td>26.0789</td>\n",
       "      <td>117.9874</td>\n",
       "      <td>1</td>\n",
       "      <td>5</td>\n",
       "      <td>10</td>\n",
       "      <td>18</td>\n",
       "      <td>35</td>\n",
       "      <td>59</td>\n",
       "      <td>...</td>\n",
       "      <td>296</td>\n",
       "      <td>296</td>\n",
       "      <td>296</td>\n",
       "      <td>296</td>\n",
       "      <td>296</td>\n",
       "      <td>296</td>\n",
       "      <td>296</td>\n",
       "      <td>296</td>\n",
       "      <td>296</td>\n",
       "      <td>296</td>\n",
       "    </tr>\n",
       "    <tr>\n",
       "      <th>4</th>\n",
       "      <td>Gansu</td>\n",
       "      <td>Mainland China</td>\n",
       "      <td>36.0611</td>\n",
       "      <td>103.8343</td>\n",
       "      <td>0</td>\n",
       "      <td>2</td>\n",
       "      <td>2</td>\n",
       "      <td>4</td>\n",
       "      <td>7</td>\n",
       "      <td>14</td>\n",
       "      <td>...</td>\n",
       "      <td>91</td>\n",
       "      <td>91</td>\n",
       "      <td>91</td>\n",
       "      <td>91</td>\n",
       "      <td>91</td>\n",
       "      <td>102</td>\n",
       "      <td>119</td>\n",
       "      <td>120</td>\n",
       "      <td>124</td>\n",
       "      <td>124</td>\n",
       "    </tr>\n",
       "  </tbody>\n",
       "</table>\n",
       "<p>5 rows × 52 columns</p>\n",
       "</div>"
      ],
      "text/plain": [
       "  Province/State  Country/Region      Lat      Long  1/22/20  1/23/20  \\\n",
       "0          Anhui  Mainland China  31.8257  117.2264        1        9   \n",
       "1        Beijing  Mainland China  40.1824  116.4142       14       22   \n",
       "2      Chongqing  Mainland China  30.0572  107.8740        6        9   \n",
       "3         Fujian  Mainland China  26.0789  117.9874        1        5   \n",
       "4          Gansu  Mainland China  36.0611  103.8343        0        2   \n",
       "\n",
       "   1/24/20  1/25/20  1/26/20  1/27/20   ...    2/29/20  3/1/20  3/2/20  \\\n",
       "0       15       39       60       70   ...        990     990     990   \n",
       "1       36       41       68       80   ...        411     413     414   \n",
       "2       27       57       75      110   ...        576     576     576   \n",
       "3       10       18       35       59   ...        296     296     296   \n",
       "4        2        4        7       14   ...         91      91      91   \n",
       "\n",
       "   3/3/20  3/4/20  3/5/20  3/6/20  3/7/20  3/8/20  3/9/20  \n",
       "0     990     990     990     990     990     990     990  \n",
       "1     414     418     418     422     426     428     428  \n",
       "2     576     576     576     576     576     576     576  \n",
       "3     296     296     296     296     296     296     296  \n",
       "4      91      91     102     119     120     124     124  \n",
       "\n",
       "[5 rows x 52 columns]"
      ]
     },
     "execution_count": 7,
     "metadata": {},
     "output_type": "execute_result"
    }
   ],
   "source": [
    "confirmed_cases = pd.read_csv(os.path.join(os.path.dirname(os.getcwd()), confirmed_cases_path))\n",
    "confirmed_cases.head()"
   ]
  },
  {
   "cell_type": "code",
   "execution_count": 8,
   "metadata": {},
   "outputs": [
    {
     "data": {
      "text/html": [
       "<div>\n",
       "<style scoped>\n",
       "    .dataframe tbody tr th:only-of-type {\n",
       "        vertical-align: middle;\n",
       "    }\n",
       "\n",
       "    .dataframe tbody tr th {\n",
       "        vertical-align: top;\n",
       "    }\n",
       "\n",
       "    .dataframe thead th {\n",
       "        text-align: right;\n",
       "    }\n",
       "</style>\n",
       "<table border=\"1\" class=\"dataframe\">\n",
       "  <thead>\n",
       "    <tr style=\"text-align: right;\">\n",
       "      <th></th>\n",
       "      <th>Province/State</th>\n",
       "      <th>Country/Region</th>\n",
       "      <th>Lat</th>\n",
       "      <th>Long</th>\n",
       "      <th>1/22/20</th>\n",
       "      <th>1/23/20</th>\n",
       "      <th>1/24/20</th>\n",
       "      <th>1/25/20</th>\n",
       "      <th>1/26/20</th>\n",
       "      <th>1/27/20</th>\n",
       "      <th>...</th>\n",
       "      <th>2/29/20</th>\n",
       "      <th>3/1/20</th>\n",
       "      <th>3/2/20</th>\n",
       "      <th>3/3/20</th>\n",
       "      <th>3/4/20</th>\n",
       "      <th>3/5/20</th>\n",
       "      <th>3/6/20</th>\n",
       "      <th>3/7/20</th>\n",
       "      <th>3/8/20</th>\n",
       "      <th>3/9/20</th>\n",
       "    </tr>\n",
       "  </thead>\n",
       "  <tbody>\n",
       "    <tr>\n",
       "      <th>0</th>\n",
       "      <td>Anhui</td>\n",
       "      <td>Mainland China</td>\n",
       "      <td>31.8257</td>\n",
       "      <td>117.2264</td>\n",
       "      <td>0</td>\n",
       "      <td>0</td>\n",
       "      <td>0</td>\n",
       "      <td>0</td>\n",
       "      <td>0</td>\n",
       "      <td>0</td>\n",
       "      <td>...</td>\n",
       "      <td>6</td>\n",
       "      <td>6</td>\n",
       "      <td>6</td>\n",
       "      <td>6</td>\n",
       "      <td>6</td>\n",
       "      <td>6</td>\n",
       "      <td>6</td>\n",
       "      <td>6</td>\n",
       "      <td>6</td>\n",
       "      <td>6</td>\n",
       "    </tr>\n",
       "    <tr>\n",
       "      <th>1</th>\n",
       "      <td>Beijing</td>\n",
       "      <td>Mainland China</td>\n",
       "      <td>40.1824</td>\n",
       "      <td>116.4142</td>\n",
       "      <td>0</td>\n",
       "      <td>0</td>\n",
       "      <td>0</td>\n",
       "      <td>0</td>\n",
       "      <td>0</td>\n",
       "      <td>1</td>\n",
       "      <td>...</td>\n",
       "      <td>8</td>\n",
       "      <td>8</td>\n",
       "      <td>8</td>\n",
       "      <td>8</td>\n",
       "      <td>8</td>\n",
       "      <td>8</td>\n",
       "      <td>8</td>\n",
       "      <td>8</td>\n",
       "      <td>8</td>\n",
       "      <td>8</td>\n",
       "    </tr>\n",
       "    <tr>\n",
       "      <th>2</th>\n",
       "      <td>Chongqing</td>\n",
       "      <td>Mainland China</td>\n",
       "      <td>30.0572</td>\n",
       "      <td>107.8740</td>\n",
       "      <td>0</td>\n",
       "      <td>0</td>\n",
       "      <td>0</td>\n",
       "      <td>0</td>\n",
       "      <td>0</td>\n",
       "      <td>0</td>\n",
       "      <td>...</td>\n",
       "      <td>6</td>\n",
       "      <td>6</td>\n",
       "      <td>6</td>\n",
       "      <td>6</td>\n",
       "      <td>6</td>\n",
       "      <td>6</td>\n",
       "      <td>6</td>\n",
       "      <td>6</td>\n",
       "      <td>6</td>\n",
       "      <td>6</td>\n",
       "    </tr>\n",
       "    <tr>\n",
       "      <th>3</th>\n",
       "      <td>Fujian</td>\n",
       "      <td>Mainland China</td>\n",
       "      <td>26.0789</td>\n",
       "      <td>117.9874</td>\n",
       "      <td>0</td>\n",
       "      <td>0</td>\n",
       "      <td>0</td>\n",
       "      <td>0</td>\n",
       "      <td>0</td>\n",
       "      <td>0</td>\n",
       "      <td>...</td>\n",
       "      <td>1</td>\n",
       "      <td>1</td>\n",
       "      <td>1</td>\n",
       "      <td>1</td>\n",
       "      <td>1</td>\n",
       "      <td>1</td>\n",
       "      <td>1</td>\n",
       "      <td>1</td>\n",
       "      <td>1</td>\n",
       "      <td>1</td>\n",
       "    </tr>\n",
       "    <tr>\n",
       "      <th>4</th>\n",
       "      <td>Gansu</td>\n",
       "      <td>Mainland China</td>\n",
       "      <td>36.0611</td>\n",
       "      <td>103.8343</td>\n",
       "      <td>0</td>\n",
       "      <td>0</td>\n",
       "      <td>0</td>\n",
       "      <td>0</td>\n",
       "      <td>0</td>\n",
       "      <td>0</td>\n",
       "      <td>...</td>\n",
       "      <td>2</td>\n",
       "      <td>2</td>\n",
       "      <td>2</td>\n",
       "      <td>2</td>\n",
       "      <td>2</td>\n",
       "      <td>2</td>\n",
       "      <td>2</td>\n",
       "      <td>2</td>\n",
       "      <td>2</td>\n",
       "      <td>2</td>\n",
       "    </tr>\n",
       "  </tbody>\n",
       "</table>\n",
       "<p>5 rows × 52 columns</p>\n",
       "</div>"
      ],
      "text/plain": [
       "  Province/State  Country/Region      Lat      Long  1/22/20  1/23/20  \\\n",
       "0          Anhui  Mainland China  31.8257  117.2264        0        0   \n",
       "1        Beijing  Mainland China  40.1824  116.4142        0        0   \n",
       "2      Chongqing  Mainland China  30.0572  107.8740        0        0   \n",
       "3         Fujian  Mainland China  26.0789  117.9874        0        0   \n",
       "4          Gansu  Mainland China  36.0611  103.8343        0        0   \n",
       "\n",
       "   1/24/20  1/25/20  1/26/20  1/27/20   ...    2/29/20  3/1/20  3/2/20  \\\n",
       "0        0        0        0        0   ...          6       6       6   \n",
       "1        0        0        0        1   ...          8       8       8   \n",
       "2        0        0        0        0   ...          6       6       6   \n",
       "3        0        0        0        0   ...          1       1       1   \n",
       "4        0        0        0        0   ...          2       2       2   \n",
       "\n",
       "   3/3/20  3/4/20  3/5/20  3/6/20  3/7/20  3/8/20  3/9/20  \n",
       "0       6       6       6       6       6       6       6  \n",
       "1       8       8       8       8       8       8       8  \n",
       "2       6       6       6       6       6       6       6  \n",
       "3       1       1       1       1       1       1       1  \n",
       "4       2       2       2       2       2       2       2  \n",
       "\n",
       "[5 rows x 52 columns]"
      ]
     },
     "execution_count": 8,
     "metadata": {},
     "output_type": "execute_result"
    }
   ],
   "source": [
    "deaths_data = pd.read_csv(os.path.join(os.path.dirname(os.getcwd()), deaths_path))\n",
    "deaths_data.head()"
   ]
  },
  {
   "cell_type": "code",
   "execution_count": 9,
   "metadata": {},
   "outputs": [
    {
     "data": {
      "text/html": [
       "<div>\n",
       "<style scoped>\n",
       "    .dataframe tbody tr th:only-of-type {\n",
       "        vertical-align: middle;\n",
       "    }\n",
       "\n",
       "    .dataframe tbody tr th {\n",
       "        vertical-align: top;\n",
       "    }\n",
       "\n",
       "    .dataframe thead th {\n",
       "        text-align: right;\n",
       "    }\n",
       "</style>\n",
       "<table border=\"1\" class=\"dataframe\">\n",
       "  <thead>\n",
       "    <tr style=\"text-align: right;\">\n",
       "      <th></th>\n",
       "      <th>Province/State</th>\n",
       "      <th>Country/Region</th>\n",
       "      <th>Lat</th>\n",
       "      <th>Long</th>\n",
       "      <th>1/22/20</th>\n",
       "      <th>1/23/20</th>\n",
       "      <th>1/24/20</th>\n",
       "      <th>1/25/20</th>\n",
       "      <th>1/26/20</th>\n",
       "      <th>1/27/20</th>\n",
       "      <th>...</th>\n",
       "      <th>2/29/20</th>\n",
       "      <th>3/1/20</th>\n",
       "      <th>3/2/20</th>\n",
       "      <th>3/3/20</th>\n",
       "      <th>3/4/20</th>\n",
       "      <th>3/5/20</th>\n",
       "      <th>3/6/20</th>\n",
       "      <th>3/7/20</th>\n",
       "      <th>3/8/20</th>\n",
       "      <th>3/9/20</th>\n",
       "    </tr>\n",
       "  </thead>\n",
       "  <tbody>\n",
       "    <tr>\n",
       "      <th>0</th>\n",
       "      <td>Anhui</td>\n",
       "      <td>Mainland China</td>\n",
       "      <td>31.8257</td>\n",
       "      <td>117.2264</td>\n",
       "      <td>0</td>\n",
       "      <td>0</td>\n",
       "      <td>0</td>\n",
       "      <td>0</td>\n",
       "      <td>0</td>\n",
       "      <td>0</td>\n",
       "      <td>...</td>\n",
       "      <td>868</td>\n",
       "      <td>873</td>\n",
       "      <td>917</td>\n",
       "      <td>936</td>\n",
       "      <td>956</td>\n",
       "      <td>970</td>\n",
       "      <td>979</td>\n",
       "      <td>979</td>\n",
       "      <td>984</td>\n",
       "      <td>984</td>\n",
       "    </tr>\n",
       "    <tr>\n",
       "      <th>1</th>\n",
       "      <td>Beijing</td>\n",
       "      <td>Mainland China</td>\n",
       "      <td>40.1824</td>\n",
       "      <td>116.4142</td>\n",
       "      <td>0</td>\n",
       "      <td>0</td>\n",
       "      <td>1</td>\n",
       "      <td>2</td>\n",
       "      <td>2</td>\n",
       "      <td>2</td>\n",
       "      <td>...</td>\n",
       "      <td>271</td>\n",
       "      <td>276</td>\n",
       "      <td>282</td>\n",
       "      <td>288</td>\n",
       "      <td>297</td>\n",
       "      <td>297</td>\n",
       "      <td>299</td>\n",
       "      <td>303</td>\n",
       "      <td>308</td>\n",
       "      <td>315</td>\n",
       "    </tr>\n",
       "    <tr>\n",
       "      <th>2</th>\n",
       "      <td>Chongqing</td>\n",
       "      <td>Mainland China</td>\n",
       "      <td>30.0572</td>\n",
       "      <td>107.8740</td>\n",
       "      <td>0</td>\n",
       "      <td>0</td>\n",
       "      <td>0</td>\n",
       "      <td>0</td>\n",
       "      <td>0</td>\n",
       "      <td>0</td>\n",
       "      <td>...</td>\n",
       "      <td>438</td>\n",
       "      <td>450</td>\n",
       "      <td>469</td>\n",
       "      <td>490</td>\n",
       "      <td>502</td>\n",
       "      <td>512</td>\n",
       "      <td>513</td>\n",
       "      <td>526</td>\n",
       "      <td>527</td>\n",
       "      <td>542</td>\n",
       "    </tr>\n",
       "    <tr>\n",
       "      <th>3</th>\n",
       "      <td>Fujian</td>\n",
       "      <td>Mainland China</td>\n",
       "      <td>26.0789</td>\n",
       "      <td>117.9874</td>\n",
       "      <td>0</td>\n",
       "      <td>0</td>\n",
       "      <td>0</td>\n",
       "      <td>0</td>\n",
       "      <td>0</td>\n",
       "      <td>0</td>\n",
       "      <td>...</td>\n",
       "      <td>243</td>\n",
       "      <td>247</td>\n",
       "      <td>255</td>\n",
       "      <td>260</td>\n",
       "      <td>270</td>\n",
       "      <td>277</td>\n",
       "      <td>284</td>\n",
       "      <td>295</td>\n",
       "      <td>295</td>\n",
       "      <td>295</td>\n",
       "    </tr>\n",
       "    <tr>\n",
       "      <th>4</th>\n",
       "      <td>Gansu</td>\n",
       "      <td>Mainland China</td>\n",
       "      <td>36.0611</td>\n",
       "      <td>103.8343</td>\n",
       "      <td>0</td>\n",
       "      <td>0</td>\n",
       "      <td>0</td>\n",
       "      <td>0</td>\n",
       "      <td>0</td>\n",
       "      <td>0</td>\n",
       "      <td>...</td>\n",
       "      <td>82</td>\n",
       "      <td>84</td>\n",
       "      <td>85</td>\n",
       "      <td>86</td>\n",
       "      <td>87</td>\n",
       "      <td>87</td>\n",
       "      <td>87</td>\n",
       "      <td>87</td>\n",
       "      <td>87</td>\n",
       "      <td>88</td>\n",
       "    </tr>\n",
       "  </tbody>\n",
       "</table>\n",
       "<p>5 rows × 52 columns</p>\n",
       "</div>"
      ],
      "text/plain": [
       "  Province/State  Country/Region      Lat      Long  1/22/20  1/23/20  \\\n",
       "0          Anhui  Mainland China  31.8257  117.2264        0        0   \n",
       "1        Beijing  Mainland China  40.1824  116.4142        0        0   \n",
       "2      Chongqing  Mainland China  30.0572  107.8740        0        0   \n",
       "3         Fujian  Mainland China  26.0789  117.9874        0        0   \n",
       "4          Gansu  Mainland China  36.0611  103.8343        0        0   \n",
       "\n",
       "   1/24/20  1/25/20  1/26/20  1/27/20   ...    2/29/20  3/1/20  3/2/20  \\\n",
       "0        0        0        0        0   ...        868     873     917   \n",
       "1        1        2        2        2   ...        271     276     282   \n",
       "2        0        0        0        0   ...        438     450     469   \n",
       "3        0        0        0        0   ...        243     247     255   \n",
       "4        0        0        0        0   ...         82      84      85   \n",
       "\n",
       "   3/3/20  3/4/20  3/5/20  3/6/20  3/7/20  3/8/20  3/9/20  \n",
       "0     936     956     970     979     979     984     984  \n",
       "1     288     297     297     299     303     308     315  \n",
       "2     490     502     512     513     526     527     542  \n",
       "3     260     270     277     284     295     295     295  \n",
       "4      86      87      87      87      87      87      88  \n",
       "\n",
       "[5 rows x 52 columns]"
      ]
     },
     "execution_count": 9,
     "metadata": {},
     "output_type": "execute_result"
    }
   ],
   "source": [
    "recovered_cases = pd.read_csv(os.path.join(os.path.dirname(os.getcwd()), cured_path))\n",
    "recovered_cases.head()"
   ]
  },
  {
   "cell_type": "markdown",
   "metadata": {},
   "source": [
    "#### Let us the growth of number of cases per each day over the entire world"
   ]
  },
  {
   "cell_type": "code",
   "execution_count": 10,
   "metadata": {},
   "outputs": [],
   "source": [
    "days_columns = confirmed_cases.columns[4:]"
   ]
  },
  {
   "cell_type": "code",
   "execution_count": 11,
   "metadata": {},
   "outputs": [],
   "source": [
    "world_cases_growth = confirmed_cases[days_columns].sum(axis = 0).reset_index()\n",
    "world_cases_growth.columns = ['Date', 'Count']"
   ]
  },
  {
   "cell_type": "code",
   "execution_count": 115,
   "metadata": {},
   "outputs": [
    {
     "data": {
      "image/png": "[encoded data removed]",
      "text/plain": [
       "<Figure size 1440x720 with 1 Axes>"
      ]
     },
     "metadata": {
      "needs_background": "light"
     },
     "output_type": "display_data"
    }
   ],
   "source": [
    "plt.rcParams['figure.figsize'] = [20, 10]\n",
    "plt.stem(world_cases_growth['Date'], world_cases_growth['Count'], '--ro')\n",
    "plt.plot(world_cases_growth['Date'], world_cases_growth['Count'], '--bo')\n",
    "plt.title(\"Spread of virus per each day\")\n",
    "plt.xticks(world_cases_growth['Date'], rotation = 90)\n",
    "plt.yticks(world_cases_growth['Count'])\n",
    "plt.show()"
   ]
  },
  {
   "cell_type": "markdown",
   "metadata": {},
   "source": [
    "##### Sudden spike can be seen from 12-Feb to 13-Feb almost 15000 cases were identified in just a single day ."
   ]
  },
  {
   "cell_type": "markdown",
   "metadata": {},
   "source": [
    "#### Parallelly let us compare the active cases to # of deaths on each day"
   ]
  },
  {
   "cell_type": "code",
   "execution_count": 12,
   "metadata": {},
   "outputs": [],
   "source": [
    "world_cases_growth['deaths'] = deaths_data[days_columns].sum(axis = 0).reset_index(drop = True)"
   ]
  },
  {
   "cell_type": "code",
   "execution_count": 156,
   "metadata": {},
   "outputs": [
    {
     "data": {
      "image/png": "[encoded data removed]",
      "text/plain": [
       "<Figure size 1440x720 with 1 Axes>"
      ]
     },
     "metadata": {
      "needs_background": "light"
     },
     "output_type": "display_data"
    }
   ],
   "source": [
    "plt.rcParams['figure.figsize'] = [20,10]\n",
    "plt.stem(world_cases_growth['Date'], world_cases_growth['deaths'], '--yo')\n",
    "plt.plot(world_cases_growth['Date'], world_cases_growth['deaths'], '--ro')\n",
    "for i in range(world_cases_growth.shape[0]):\n",
    "    plt.text(world_cases_growth.loc[i, 'Date'], world_cases_growth.loc[i, 'deaths']+50, \n",
    "             world_cases_growth.loc[i,'deaths'])\n",
    "plt.title(\"# of deaths due to Covid-19 per each day\")\n",
    "plt.xticks(world_cases_growth['Date'], rotation = 90)\n",
    "plt.show()"
   ]
  },
  {
   "cell_type": "markdown",
   "metadata": {},
   "source": [
    "#### Let us also see how many cases were cured on daily basis"
   ]
  },
  {
   "cell_type": "code",
   "execution_count": 13,
   "metadata": {},
   "outputs": [],
   "source": [
    "world_cases_growth['recovered'] = recovered_cases[days_columns].sum(axis = 0).reset_index(drop = True)"
   ]
  },
  {
   "cell_type": "code",
   "execution_count": 157,
   "metadata": {},
   "outputs": [
    {
     "data": {
      "image/png": "[encoded data removed]",
      "text/plain": [
       "<Figure size 1440x720 with 1 Axes>"
      ]
     },
     "metadata": {
      "needs_background": "light"
     },
     "output_type": "display_data"
    }
   ],
   "source": [
    "plt.rcParams['figure.figsize'] = [20,10]\n",
    "plt.stem(world_cases_growth['Date'], world_cases_growth['recovered'], '--yo')\n",
    "plt.plot(world_cases_growth['Date'], world_cases_growth['recovered'], '--ro')\n",
    "for i in range(world_cases_growth.shape[0]):\n",
    "    plt.text(world_cases_growth.loc[i, 'Date'], world_cases_growth.loc[i, 'recovered']+50, \n",
    "             world_cases_growth.loc[i,'recovered'])\n",
    "plt.title(\"# of people that recovered from Covid-19 virus\")\n",
    "plt.xticks(world_cases_growth['Date'], rotation = 90)\n",
    "plt.show()"
   ]
  },
  {
   "cell_type": "code",
   "execution_count": 161,
   "metadata": {},
   "outputs": [
    {
     "data": {
      "image/png": "[encoded data removed]",
      "text/plain": [
       "<Figure size 1440x720 with 3 Axes>"
      ]
     },
     "metadata": {
      "needs_background": "light"
     },
     "output_type": "display_data"
    }
   ],
   "source": [
    "plt.rcParams['figure.figsize'] = [20, 10]\n",
    "plt.figure(1)\n",
    "plt.subplot(311)\n",
    "plt.plot(world_cases_growth['Date'], world_cases_growth['Count'], '--bo')\n",
    "plt.xticks(world_cases_growth['Date'], rotation = 90)\n",
    "plt.legend()\n",
    "\n",
    "plt.subplot(312)\n",
    "plt.plot(world_cases_growth['Date'], world_cases_growth['deaths'], '--ro')\n",
    "plt.xticks(world_cases_growth['Date'], rotation = 90)\n",
    "plt.legend()\n",
    "\n",
    "plt.subplot(313)\n",
    "plt.plot(world_cases_growth['Date'], world_cases_growth['recovered'], '--go')\n",
    "\n",
    "plt.xticks(world_cases_growth['Date'], rotation = 90)\n",
    "plt.legend()\n",
    "plt.show()"
   ]
  },
  {
   "cell_type": "markdown",
   "metadata": {},
   "source": [
    "#### Let us now see the growth of virus in each country"
   ]
  },
  {
   "cell_type": "code",
   "execution_count": 16,
   "metadata": {
    "scrolled": true
   },
   "outputs": [
    {
     "data": {
      "text/html": [
       "<div>\n",
       "<style scoped>\n",
       "    .dataframe tbody tr th:only-of-type {\n",
       "        vertical-align: middle;\n",
       "    }\n",
       "\n",
       "    .dataframe tbody tr th {\n",
       "        vertical-align: top;\n",
       "    }\n",
       "\n",
       "    .dataframe thead th {\n",
       "        text-align: right;\n",
       "    }\n",
       "</style>\n",
       "<table border=\"1\" class=\"dataframe\">\n",
       "  <thead>\n",
       "    <tr style=\"text-align: right;\">\n",
       "      <th></th>\n",
       "      <th>Country/Region</th>\n",
       "      <th>1/22/20</th>\n",
       "      <th>1/23/20</th>\n",
       "      <th>1/24/20</th>\n",
       "      <th>1/25/20</th>\n",
       "      <th>1/26/20</th>\n",
       "      <th>1/27/20</th>\n",
       "      <th>1/28/20</th>\n",
       "      <th>1/29/20</th>\n",
       "      <th>1/30/20</th>\n",
       "      <th>...</th>\n",
       "      <th>2/29/20</th>\n",
       "      <th>3/1/20</th>\n",
       "      <th>3/2/20</th>\n",
       "      <th>3/3/20</th>\n",
       "      <th>3/4/20</th>\n",
       "      <th>3/5/20</th>\n",
       "      <th>3/6/20</th>\n",
       "      <th>3/7/20</th>\n",
       "      <th>3/8/20</th>\n",
       "      <th>3/9/20</th>\n",
       "    </tr>\n",
       "  </thead>\n",
       "  <tbody>\n",
       "    <tr>\n",
       "      <th>0</th>\n",
       "      <td>Afghanistan</td>\n",
       "      <td>0</td>\n",
       "      <td>0</td>\n",
       "      <td>0</td>\n",
       "      <td>0</td>\n",
       "      <td>0</td>\n",
       "      <td>0</td>\n",
       "      <td>0</td>\n",
       "      <td>0</td>\n",
       "      <td>0</td>\n",
       "      <td>...</td>\n",
       "      <td>1</td>\n",
       "      <td>1</td>\n",
       "      <td>1</td>\n",
       "      <td>1</td>\n",
       "      <td>1</td>\n",
       "      <td>1</td>\n",
       "      <td>1</td>\n",
       "      <td>1</td>\n",
       "      <td>4</td>\n",
       "      <td>4</td>\n",
       "    </tr>\n",
       "    <tr>\n",
       "      <th>1</th>\n",
       "      <td>Albania</td>\n",
       "      <td>0</td>\n",
       "      <td>0</td>\n",
       "      <td>0</td>\n",
       "      <td>0</td>\n",
       "      <td>0</td>\n",
       "      <td>0</td>\n",
       "      <td>0</td>\n",
       "      <td>0</td>\n",
       "      <td>0</td>\n",
       "      <td>...</td>\n",
       "      <td>0</td>\n",
       "      <td>0</td>\n",
       "      <td>0</td>\n",
       "      <td>0</td>\n",
       "      <td>0</td>\n",
       "      <td>0</td>\n",
       "      <td>0</td>\n",
       "      <td>0</td>\n",
       "      <td>0</td>\n",
       "      <td>2</td>\n",
       "    </tr>\n",
       "    <tr>\n",
       "      <th>2</th>\n",
       "      <td>Algeria</td>\n",
       "      <td>0</td>\n",
       "      <td>0</td>\n",
       "      <td>0</td>\n",
       "      <td>0</td>\n",
       "      <td>0</td>\n",
       "      <td>0</td>\n",
       "      <td>0</td>\n",
       "      <td>0</td>\n",
       "      <td>0</td>\n",
       "      <td>...</td>\n",
       "      <td>1</td>\n",
       "      <td>1</td>\n",
       "      <td>3</td>\n",
       "      <td>5</td>\n",
       "      <td>12</td>\n",
       "      <td>12</td>\n",
       "      <td>17</td>\n",
       "      <td>17</td>\n",
       "      <td>19</td>\n",
       "      <td>20</td>\n",
       "    </tr>\n",
       "    <tr>\n",
       "      <th>3</th>\n",
       "      <td>Andorra</td>\n",
       "      <td>0</td>\n",
       "      <td>0</td>\n",
       "      <td>0</td>\n",
       "      <td>0</td>\n",
       "      <td>0</td>\n",
       "      <td>0</td>\n",
       "      <td>0</td>\n",
       "      <td>0</td>\n",
       "      <td>0</td>\n",
       "      <td>...</td>\n",
       "      <td>0</td>\n",
       "      <td>0</td>\n",
       "      <td>1</td>\n",
       "      <td>1</td>\n",
       "      <td>1</td>\n",
       "      <td>1</td>\n",
       "      <td>1</td>\n",
       "      <td>1</td>\n",
       "      <td>1</td>\n",
       "      <td>1</td>\n",
       "    </tr>\n",
       "    <tr>\n",
       "      <th>4</th>\n",
       "      <td>Argentina</td>\n",
       "      <td>0</td>\n",
       "      <td>0</td>\n",
       "      <td>0</td>\n",
       "      <td>0</td>\n",
       "      <td>0</td>\n",
       "      <td>0</td>\n",
       "      <td>0</td>\n",
       "      <td>0</td>\n",
       "      <td>0</td>\n",
       "      <td>...</td>\n",
       "      <td>0</td>\n",
       "      <td>0</td>\n",
       "      <td>0</td>\n",
       "      <td>1</td>\n",
       "      <td>1</td>\n",
       "      <td>1</td>\n",
       "      <td>2</td>\n",
       "      <td>8</td>\n",
       "      <td>12</td>\n",
       "      <td>12</td>\n",
       "    </tr>\n",
       "  </tbody>\n",
       "</table>\n",
       "<p>5 rows × 49 columns</p>\n",
       "</div>"
      ],
      "text/plain": [
       "  Country/Region  1/22/20  1/23/20  1/24/20  1/25/20  1/26/20  1/27/20  \\\n",
       "0    Afghanistan        0        0        0        0        0        0   \n",
       "1        Albania        0        0        0        0        0        0   \n",
       "2        Algeria        0        0        0        0        0        0   \n",
       "3        Andorra        0        0        0        0        0        0   \n",
       "4      Argentina        0        0        0        0        0        0   \n",
       "\n",
       "   1/28/20  1/29/20  1/30/20   ...    2/29/20  3/1/20  3/2/20  3/3/20  3/4/20  \\\n",
       "0        0        0        0   ...          1       1       1       1       1   \n",
       "1        0        0        0   ...          0       0       0       0       0   \n",
       "2        0        0        0   ...          1       1       3       5      12   \n",
       "3        0        0        0   ...          0       0       1       1       1   \n",
       "4        0        0        0   ...          0       0       0       1       1   \n",
       "\n",
       "   3/5/20  3/6/20  3/7/20  3/8/20  3/9/20  \n",
       "0       1       1       1       4       4  \n",
       "1       0       0       0       0       2  \n",
       "2      12      17      17      19      20  \n",
       "3       1       1       1       1       1  \n",
       "4       1       2       8      12      12  \n",
       "\n",
       "[5 rows x 49 columns]"
      ]
     },
     "execution_count": 16,
     "metadata": {},
     "output_type": "execute_result"
    }
   ],
   "source": [
    "con_cases_growth = confirmed_cases.groupby('Country/Region')[days_columns].agg(np.sum).reset_index()\n",
    "con_cases_growth.head()"
   ]
  },
  {
   "cell_type": "code",
   "execution_count": 80,
   "metadata": {},
   "outputs": [],
   "source": [
    "plt.show()"
   ]
  },
  {
   "cell_type": "markdown",
   "metadata": {},
   "source": [
    "#### As per the latest data lets see what is the severity of cases in each country"
   ]
  },
  {
   "cell_type": "code",
   "execution_count": 31,
   "metadata": {},
   "outputs": [],
   "source": [
    "daily_data = \"csse_covid_19_data\\\\csse_covid_19_daily_reports\"\n",
    "daily_data_dir = os.path.join(os.path.dirname(os.getcwd()), daily_data)\n",
    "\n",
    "daily_data_files = glob.glob(daily_data_dir+'/*.csv')"
   ]
  },
  {
   "cell_type": "code",
   "execution_count": 32,
   "metadata": {},
   "outputs": [
    {
     "data": {
      "text/html": [
       "<div>\n",
       "<style scoped>\n",
       "    .dataframe tbody tr th:only-of-type {\n",
       "        vertical-align: middle;\n",
       "    }\n",
       "\n",
       "    .dataframe tbody tr th {\n",
       "        vertical-align: top;\n",
       "    }\n",
       "\n",
       "    .dataframe thead th {\n",
       "        text-align: right;\n",
       "    }\n",
       "</style>\n",
       "<table border=\"1\" class=\"dataframe\">\n",
       "  <thead>\n",
       "    <tr style=\"text-align: right;\">\n",
       "      <th></th>\n",
       "      <th>Province/State</th>\n",
       "      <th>Country/Region</th>\n",
       "      <th>Last Update</th>\n",
       "      <th>Confirmed</th>\n",
       "      <th>Deaths</th>\n",
       "      <th>Recovered</th>\n",
       "      <th>Latitude</th>\n",
       "      <th>Longitude</th>\n",
       "    </tr>\n",
       "  </thead>\n",
       "  <tbody>\n",
       "    <tr>\n",
       "      <th>0</th>\n",
       "      <td>Hubei</td>\n",
       "      <td>Mainland China</td>\n",
       "      <td>2020-03-09T14:33:03</td>\n",
       "      <td>67743</td>\n",
       "      <td>3008</td>\n",
       "      <td>46488</td>\n",
       "      <td>30.9756</td>\n",
       "      <td>112.2707</td>\n",
       "    </tr>\n",
       "    <tr>\n",
       "      <th>1</th>\n",
       "      <td>NaN</td>\n",
       "      <td>Italy</td>\n",
       "      <td>2020-03-09T18:13:11</td>\n",
       "      <td>9172</td>\n",
       "      <td>463</td>\n",
       "      <td>724</td>\n",
       "      <td>43.0000</td>\n",
       "      <td>12.0000</td>\n",
       "    </tr>\n",
       "    <tr>\n",
       "      <th>2</th>\n",
       "      <td>NaN</td>\n",
       "      <td>South Korea</td>\n",
       "      <td>2020-03-09T09:03:03</td>\n",
       "      <td>7478</td>\n",
       "      <td>53</td>\n",
       "      <td>118</td>\n",
       "      <td>36.0000</td>\n",
       "      <td>128.0000</td>\n",
       "    </tr>\n",
       "    <tr>\n",
       "      <th>3</th>\n",
       "      <td>NaN</td>\n",
       "      <td>Iran</td>\n",
       "      <td>2020-03-09T10:53:03</td>\n",
       "      <td>7161</td>\n",
       "      <td>237</td>\n",
       "      <td>2394</td>\n",
       "      <td>32.0000</td>\n",
       "      <td>53.0000</td>\n",
       "    </tr>\n",
       "    <tr>\n",
       "      <th>4</th>\n",
       "      <td>Guangdong</td>\n",
       "      <td>Mainland China</td>\n",
       "      <td>2020-03-09T01:43:01</td>\n",
       "      <td>1352</td>\n",
       "      <td>8</td>\n",
       "      <td>1260</td>\n",
       "      <td>23.3417</td>\n",
       "      <td>113.4244</td>\n",
       "    </tr>\n",
       "  </tbody>\n",
       "</table>\n",
       "</div>"
      ],
      "text/plain": [
       "  Province/State  Country/Region          Last Update  Confirmed  Deaths  \\\n",
       "0          Hubei  Mainland China  2020-03-09T14:33:03      67743    3008   \n",
       "1            NaN           Italy  2020-03-09T18:13:11       9172     463   \n",
       "2            NaN     South Korea  2020-03-09T09:03:03       7478      53   \n",
       "3            NaN            Iran  2020-03-09T10:53:03       7161     237   \n",
       "4      Guangdong  Mainland China  2020-03-09T01:43:01       1352       8   \n",
       "\n",
       "   Recovered  Latitude  Longitude  \n",
       "0      46488   30.9756   112.2707  \n",
       "1        724   43.0000    12.0000  \n",
       "2        118   36.0000   128.0000  \n",
       "3       2394   32.0000    53.0000  \n",
       "4       1260   23.3417   113.4244  "
      ]
     },
     "execution_count": 32,
     "metadata": {},
     "output_type": "execute_result"
    }
   ],
   "source": [
    "latest_data = pd.read_csv(daily_data_files[-1])\n",
    "latest_data.head()"
   ]
  },
  {
   "cell_type": "code",
   "execution_count": 36,
   "metadata": {},
   "outputs": [],
   "source": [
    "agg_latest_data = latest_data.groupby('Country/Region')['Confirmed'].agg([np.sum]).reset_index()"
   ]
  },
  {
   "cell_type": "code",
   "execution_count": 109,
   "metadata": {},
   "outputs": [],
   "source": [
    "manual_dict = {'mainland china' : 'CHN', 'north macedonia' : 'MKD', 'palestine' : 'PSE', \n",
    "               'saint barthelemy' : 'FRA', 'south korea' : 'KOR', 'st. martin' : 'PYC', \n",
    "               'uk' : 'GBR', 'us' : 'USA', 'vatican city': 'ITA'}\n",
    "def get_country_code(series):\n",
    "    df = pd.read_csv('https://raw.githubusercontent.com/plotly/datasets/master/2014_world_gdp_with_codes.csv')\n",
    "    df2 = pd.read_csv(os.path.join(os.path.dirname(os.getcwd()), 'archived_data\\\\countryCodes.csv'), sep = '\\t')\n",
    "    country_code_dict = {row[1][0].lower() : row[1][2] for row in df.iterrows()}\n",
    "    added_dict = {row[1][0].lower() : row[1][2] for row in df2.iterrows()}\n",
    "#     print(country_code_dict)\n",
    "    res = []\n",
    "    for key in series:\n",
    "        if key.lower() in country_code_dict:\n",
    "            res.append(country_code_dict.get(key.lower(), None))\n",
    "        elif key.lower() in added_dict:\n",
    "            res.append(added_dict.get(key.lower(), None))\n",
    "        else:\n",
    "            res.append(manual_dict.get(key.lower(), None))\n",
    "    return res"
   ]
  },
  {
   "cell_type": "code",
   "execution_count": 110,
   "metadata": {},
   "outputs": [],
   "source": [
    "agg_latest_data['Code'] = get_country_code(agg_latest_data['Country/Region'])"
   ]
  },
  {
   "cell_type": "code",
   "execution_count": 111,
   "metadata": {},
   "outputs": [
    {
     "data": {
      "application/vnd.plotly.v1+json": {
       "config": {
        "plotlyServerURL": "https://plot.ly"
       },
       "data": [
        {
         "customdata": [
          [
           "Afghanistan",
           4
          ],
          [
           "Albania",
           2
          ],
          [
           "Algeria",
           20
          ],
          [
           "Andorra",
           1
          ],
          [
           "Argentina",
           12
          ],
          [
           "Armenia",
           1
          ],
          [
           "Australia",
           91
          ],
          [
           "Austria",
           131
          ],
          [
           "Azerbaijan",
           9
          ],
          [
           "Bahrain",
           95
          ],
          [
           "Bangladesh",
           3
          ],
          [
           "Belarus",
           6
          ],
          [
           "Belgium",
           239
          ],
          [
           "Bhutan",
           1
          ],
          [
           "Bosnia and Herzegovina",
           3
          ],
          [
           "Brazil",
           25
          ],
          [
           "Brunei",
           1
          ],
          [
           "Bulgaria",
           4
          ],
          [
           "Cambodia",
           2
          ],
          [
           "Cameroon",
           2
          ],
          [
           "Canada",
           76
          ],
          [
           "Chile",
           8
          ],
          [
           "Colombia",
           1
          ],
          [
           "Costa Rica",
           9
          ],
          [
           "Croatia",
           12
          ],
          [
           "Cyprus",
           2
          ],
          [
           "Czech Republic",
           31
          ],
          [
           "Denmark",
           90
          ],
          [
           "Dominican Republic",
           5
          ],
          [
           "Ecuador",
           15
          ],
          [
           "Egypt",
           55
          ],
          [
           "Estonia",
           10
          ],
          [
           "Faroe Islands",
           2
          ],
          [
           "Finland",
           30
          ],
          [
           "France",
           1209
          ],
          [
           "French Guiana",
           5
          ],
          [
           "Georgia",
           15
          ],
          [
           "Germany",
           1176
          ],
          [
           "Gibraltar",
           1
          ],
          [
           "Greece",
           73
          ],
          [
           "Hong Kong",
           115
          ],
          [
           "Hungary",
           9
          ],
          [
           "Iceland",
           58
          ],
          [
           "India",
           43
          ],
          [
           "Indonesia",
           19
          ],
          [
           "Iran",
           7161
          ],
          [
           "Iraq",
           60
          ],
          [
           "Ireland",
           21
          ],
          [
           "Israel",
           39
          ],
          [
           "Italy",
           9172
          ],
          [
           "Japan",
           511
          ],
          [
           "Jordan",
           1
          ],
          [
           "Kuwait",
           64
          ],
          [
           "Latvia",
           6
          ],
          [
           "Lebanon",
           32
          ],
          [
           "Liechtenstein",
           1
          ],
          [
           "Lithuania",
           1
          ],
          [
           "Luxembourg",
           3
          ],
          [
           "Macau",
           10
          ],
          [
           "Mainland China",
           80735
          ],
          [
           "Malaysia",
           117
          ],
          [
           "Maldives",
           4
          ],
          [
           "Malta",
           3
          ],
          [
           "Martinique",
           2
          ],
          [
           "Mexico",
           7
          ],
          [
           "Moldova",
           1
          ],
          [
           "Monaco",
           1
          ],
          [
           "Morocco",
           2
          ],
          [
           "Nepal",
           1
          ],
          [
           "Netherlands",
           321
          ],
          [
           "New Zealand",
           5
          ],
          [
           "Nigeria",
           2
          ],
          [
           "North Macedonia",
           3
          ],
          [
           "Norway",
           205
          ],
          [
           "Oman",
           16
          ],
          [
           "Others",
           696
          ],
          [
           "Pakistan",
           6
          ],
          [
           "Palestine",
           22
          ],
          [
           "Paraguay",
           1
          ],
          [
           "Peru",
           7
          ],
          [
           "Philippines",
           20
          ],
          [
           "Poland",
           16
          ],
          [
           "Portugal",
           30
          ],
          [
           "Qatar",
           18
          ],
          [
           "Romania",
           15
          ],
          [
           "Russia",
           17
          ],
          [
           "Saint Barthelemy",
           1
          ],
          [
           "San Marino",
           36
          ],
          [
           "Saudi Arabia",
           15
          ],
          [
           "Senegal",
           4
          ],
          [
           "Serbia",
           1
          ],
          [
           "Singapore",
           150
          ],
          [
           "Slovakia",
           3
          ],
          [
           "Slovenia",
           16
          ],
          [
           "South Africa",
           3
          ],
          [
           "South Korea",
           7478
          ],
          [
           "Spain",
           1073
          ],
          [
           "Sri Lanka",
           1
          ],
          [
           "St. Martin",
           2
          ],
          [
           "Sweden",
           248
          ],
          [
           "Switzerland",
           374
          ],
          [
           "Taiwan",
           45
          ],
          [
           "Thailand",
           50
          ],
          [
           "Togo",
           1
          ],
          [
           "Tunisia",
           2
          ],
          [
           "UK",
           321
          ],
          [
           "US",
           605
          ],
          [
           "Ukraine",
           1
          ],
          [
           "United Arab Emirates",
           45
          ],
          [
           "Vatican City",
           1
          ],
          [
           "Vietnam",
           30
          ]
         ],
         "geo": "geo",
         "hoverlabel": {
          "namelength": 0
         },
         "hovertemplate": "<b>%{hovertext}</b><br><br>size=%{marker.size}<br>Country/Region=%{customdata[0]}<br>sum=%{customdata[1]}<br>Code=%{location}<br>color=%{marker.color}",
         "hovertext": [
          "Afghanistan",
          "Albania",
          "Algeria",
          "Andorra",
          "Argentina",
          "Armenia",
          "Australia",
          "Austria",
          "Azerbaijan",
          "Bahrain",
          "Bangladesh",
          "Belarus",
          "Belgium",
          "Bhutan",
          "Bosnia and Herzegovina",
          "Brazil",
          "Brunei",
          "Bulgaria",
          "Cambodia",
          "Cameroon",
          "Canada",
          "Chile",
          "Colombia",
          "Costa Rica",
          "Croatia",
          "Cyprus",
          "Czech Republic",
          "Denmark",
          "Dominican Republic",
          "Ecuador",
          "Egypt",
          "Estonia",
          "Faroe Islands",
          "Finland",
          "France",
          "French Guiana",
          "Georgia",
          "Germany",
          "Gibraltar",
          "Greece",
          "Hong Kong",
          "Hungary",
          "Iceland",
          "India",
          "Indonesia",
          "Iran",
          "Iraq",
          "Ireland",
          "Israel",
          "Italy",
          "Japan",
          "Jordan",
          "Kuwait",
          "Latvia",
          "Lebanon",
          "Liechtenstein",
          "Lithuania",
          "Luxembourg",
          "Macau",
          "Mainland China",
          "Malaysia",
          "Maldives",
          "Malta",
          "Martinique",
          "Mexico",
          "Moldova",
          "Monaco",
          "Morocco",
          "Nepal",
          "Netherlands",
          "New Zealand",
          "Nigeria",
          "North Macedonia",
          "Norway",
          "Oman",
          "Others",
          "Pakistan",
          "Palestine",
          "Paraguay",
          "Peru",
          "Philippines",
          "Poland",
          "Portugal",
          "Qatar",
          "Romania",
          "Russia",
          "Saint Barthelemy",
          "San Marino",
          "Saudi Arabia",
          "Senegal",
          "Serbia",
          "Singapore",
          "Slovakia",
          "Slovenia",
          "South Africa",
          "South Korea",
          "Spain",
          "Sri Lanka",
          "St. Martin",
          "Sweden",
          "Switzerland",
          "Taiwan",
          "Thailand",
          "Togo",
          "Tunisia",
          "UK",
          "US",
          "Ukraine",
          "United Arab Emirates",
          "Vatican City",
          "Vietnam"
         ],
         "legendgroup": "",
         "locations": [
          "AFG",
          "ALB",
          "DZA",
          "AND",
          "ARG",
          "ARM",
          "AUS",
          "AUT",
          "AZE",
          "BHR",
          "BGD",
          "BLR",
          "BEL",
          "BTN",
          "BIH",
          "BRA",
          "BRN",
          "BGR",
          "KHM",
          "CMR",
          "CAN",
          "CHL",
          "COL",
          "CRI",
          "HRV",
          "CYP",
          "CZE",
          "DNK",
          "DOM",
          "ECU",
          "EGY",
          "EST",
          "FRO",
          "FIN",
          "FRA",
          "GUF",
          "GEO",
          "DEU",
          "GIB",
          "GRC",
          "HKG",
          "HUN",
          "ISL",
          "IND",
          "IDN",
          "IRN",
          "IRQ",
          "IRL",
          "ISR",
          "ITA",
          "JPN",
          "JOR",
          "KWT",
          "LVA",
          "LBN",
          "LIE",
          "LTU",
          "LUX",
          "MAC",
          "CHN",
          "MYS",
          "MDV",
          "MLT",
          "MTQ",
          "MEX",
          "MDA",
          "MCO",
          "MAR",
          "NPL",
          "NLD",
          "NZL",
          "NGA",
          "MKD",
          "NOR",
          "OMN",
          null,
          "PAK",
          "PSE",
          "PRY",
          "PER",
          "PHL",
          "POL",
          "PRT",
          "QAT",
          "ROU",
          "RUS",
          "FRA",
          "SMR",
          "SAU",
          "SEN",
          "SRB",
          "SGP",
          "SVK",
          "SVN",
          "ZAF",
          "KOR",
          "ESP",
          "LKA",
          "PYC",
          "SWE",
          "CHE",
          "TWN",
          "THA",
          "TGO",
          "TUN",
          "GBR",
          "USA",
          "UKR",
          "ARE",
          "ITA",
          "VNM"
         ],
         "marker": {
          "color": [
           1.3862943611198906,
           0.6931471805599453,
           2.995732273553991,
           0,
           2.4849066497880004,
           0,
           4.51085950651685,
           4.875197323201151,
           2.1972245773362196,
           4.553876891600541,
           1.0986122886681098,
           1.791759469228055,
           5.476463551931511,
           0,
           1.0986122886681098,
           3.2188758248682006,
           0,
           1.3862943611198906,
           0.6931471805599453,
           0.6931471805599453,
           4.330733340286331,
           2.0794415416798357,
           0,
           2.1972245773362196,
           2.4849066497880004,
           0.6931471805599453,
           3.4339872044851463,
           4.499809670330265,
           1.6094379124341003,
           2.70805020110221,
           4.007333185232471,
           2.302585092994046,
           0.6931471805599453,
           3.4011973816621555,
           7.097548850614793,
           1.6094379124341003,
           2.70805020110221,
           7.069874128458572,
           0,
           4.290459441148391,
           4.74493212836325,
           2.1972245773362196,
           4.060443010546419,
           3.7612001156935624,
           2.9444389791664403,
           8.87640491500694,
           4.0943445622221,
           3.044522437723423,
           3.6635616461296463,
           9.123910643977796,
           6.236369590203704,
           0,
           4.1588830833596715,
           1.791759469228055,
           3.4657359027997265,
           0,
           0,
           1.0986122886681098,
           2.302585092994046,
           11.298927465315721,
           4.762173934797756,
           1.3862943611198906,
           1.0986122886681098,
           0.6931471805599453,
           1.9459101490553132,
           0,
           0,
           0.6931471805599453,
           0,
           5.771441123130016,
           1.6094379124341003,
           0.6931471805599453,
           1.0986122886681098,
           5.3230099791384085,
           2.772588722239781,
           6.54534966033442,
           1.791759469228055,
           3.091042453358316,
           0,
           1.9459101490553132,
           2.995732273553991,
           2.772588722239781,
           3.4011973816621555,
           2.8903717578961645,
           2.70805020110221,
           2.833213344056216,
           0,
           3.58351893845611,
           2.70805020110221,
           1.3862943611198906,
           0,
           5.0106352940962555,
           1.0986122886681098,
           2.772588722239781,
           1.0986122886681098,
           8.91972065553706,
           6.9782137426306985,
           0,
           0.6931471805599453,
           5.5134287461649825,
           5.924255797414532,
           3.8066624897703196,
           3.912023005428146,
           0,
           0.6931471805599453,
           5.771441123130016,
           6.405228458030842,
           0,
           3.8066624897703196,
           0,
           3.4011973816621555
          ],
          "coloraxis": "coloraxis",
          "size": [
           1.3862943611198906,
           0.6931471805599453,
           2.995732273553991,
           0,
           2.4849066497880004,
           0,
           4.51085950651685,
           4.875197323201151,
           2.1972245773362196,
           4.553876891600541,
           1.0986122886681098,
           1.791759469228055,
           5.476463551931511,
           0,
           1.0986122886681098,
           3.2188758248682006,
           0,
           1.3862943611198906,
           0.6931471805599453,
           0.6931471805599453,
           4.330733340286331,
           2.0794415416798357,
           0,
           2.1972245773362196,
           2.4849066497880004,
           0.6931471805599453,
           3.4339872044851463,
           4.499809670330265,
           1.6094379124341003,
           2.70805020110221,
           4.007333185232471,
           2.302585092994046,
           0.6931471805599453,
           3.4011973816621555,
           7.097548850614793,
           1.6094379124341003,
           2.70805020110221,
           7.069874128458572,
           0,
           4.290459441148391,
           4.74493212836325,
           2.1972245773362196,
           4.060443010546419,
           3.7612001156935624,
           2.9444389791664403,
           8.87640491500694,
           4.0943445622221,
           3.044522437723423,
           3.6635616461296463,
           9.123910643977796,
           6.236369590203704,
           0,
           4.1588830833596715,
           1.791759469228055,
           3.4657359027997265,
           0,
           0,
           1.0986122886681098,
           2.302585092994046,
           11.298927465315721,
           4.762173934797756,
           1.3862943611198906,
           1.0986122886681098,
           0.6931471805599453,
           1.9459101490553132,
           0,
           0,
           0.6931471805599453,
           0,
           5.771441123130016,
           1.6094379124341003,
           0.6931471805599453,
           1.0986122886681098,
           5.3230099791384085,
           2.772588722239781,
           6.54534966033442,
           1.791759469228055,
           3.091042453358316,
           0,
           1.9459101490553132,
           2.995732273553991,
           2.772588722239781,
           3.4011973816621555,
           2.8903717578961645,
           2.70805020110221,
           2.833213344056216,
           0,
           3.58351893845611,
           2.70805020110221,
           1.3862943611198906,
           0,
           5.0106352940962555,
           1.0986122886681098,
           2.772588722239781,
           1.0986122886681098,
           8.91972065553706,
           6.9782137426306985,
           0,
           0.6931471805599453,
           5.5134287461649825,
           5.924255797414532,
           3.8066624897703196,
           3.912023005428146,
           0,
           0.6931471805599453,
           5.771441123130016,
           6.405228458030842,
           0,
           3.8066624897703196,
           0,
           3.4011973816621555
          ],
          "sizemode": "area",
          "sizeref": 0.028247318663289302
         },
         "name": "",
         "showlegend": false,
         "type": "scattergeo"
        }
       ],
       "layout": {
        "coloraxis": {
         "colorbar": {
          "title": {
           "text": "color"
          }
         },
         "colorscale": [
          [
           0,
           "#440154"
          ],
          [
           0.1111111111111111,
           "#482878"
          ],
          [
           0.2222222222222222,
           "#3e4989"
          ],
          [
           0.3333333333333333,
           "#31688e"
          ],
          [
           0.4444444444444444,
           "#26828e"
          ],
          [
           0.5555555555555556,
           "#1f9e89"
          ],
          [
           0.6666666666666666,
           "#35b779"
          ],
          [
           0.7777777777777778,
           "#6ece58"
          ],
          [
           0.8888888888888888,
           "#b5de2b"
          ],
          [
           1,
           "#fde725"
          ]
         ]
        },
        "geo": {
         "center": {},
         "domain": {
          "x": [
           0,
           1
          ],
          "y": [
           0,
           1
          ]
         },
         "projection": {
          "type": "natural earth"
         },
         "resolution": 110,
         "showcountries": true
        },
        "legend": {
         "itemsizing": "constant",
         "tracegroupgap": 0
        },
        "margin": {
         "t": 60
        },
        "template": {
         "data": {
          "bar": [
           {
            "error_x": {
             "color": "#2a3f5f"
            },
            "error_y": {
             "color": "#2a3f5f"
            },
            "marker": {
             "line": {
              "color": "#E5ECF6",
              "width": 0.5
             }
            },
            "type": "bar"
           }
          ],
          "barpolar": [
           {
            "marker": {
             "line": {
              "color": "#E5ECF6",
              "width": 0.5
             }
            },
            "type": "barpolar"
           }
          ],
          "carpet": [
           {
            "aaxis": {
             "endlinecolor": "#2a3f5f",
             "gridcolor": "white",
             "linecolor": "white",
             "minorgridcolor": "white",
             "startlinecolor": "#2a3f5f"
            },
            "baxis": {
             "endlinecolor": "#2a3f5f",
             "gridcolor": "white",
             "linecolor": "white",
             "minorgridcolor": "white",
             "startlinecolor": "#2a3f5f"
            },
            "type": "carpet"
           }
          ],
          "choropleth": [
           {
            "colorbar": {
             "outlinewidth": 0,
             "ticks": ""
            },
            "type": "choropleth"
           }
          ],
          "contour": [
           {
            "colorbar": {
             "outlinewidth": 0,
             "ticks": ""
            },
            "colorscale": [
             [
              0,
              "#0d0887"
             ],
             [
              0.1111111111111111,
              "#46039f"
             ],
             [
              0.2222222222222222,
              "#7201a8"
             ],
             [
              0.3333333333333333,
              "#9c179e"
             ],
             [
              0.4444444444444444,
              "#bd3786"
             ],
             [
              0.5555555555555556,
              "#d8576b"
             ],
             [
              0.6666666666666666,
              "#ed7953"
             ],
             [
              0.7777777777777778,
              "#fb9f3a"
             ],
             [
              0.8888888888888888,
              "#fdca26"
             ],
             [
              1,
              "#f0f921"
             ]
            ],
            "type": "contour"
           }
          ],
          "contourcarpet": [
           {
            "colorbar": {
             "outlinewidth": 0,
             "ticks": ""
            },
            "type": "contourcarpet"
           }
          ],
          "heatmap": [
           {
            "colorbar": {
             "outlinewidth": 0,
             "ticks": ""
            },
            "colorscale": [
             [
              0,
              "#0d0887"
             ],
             [
              0.1111111111111111,
              "#46039f"
             ],
             [
              0.2222222222222222,
              "#7201a8"
             ],
             [
              0.3333333333333333,
              "#9c179e"
             ],
             [
              0.4444444444444444,
              "#bd3786"
             ],
             [
              0.5555555555555556,
              "#d8576b"
             ],
             [
              0.6666666666666666,
              "#ed7953"
             ],
             [
              0.7777777777777778,
              "#fb9f3a"
             ],
             [
              0.8888888888888888,
              "#fdca26"
             ],
             [
              1,
              "#f0f921"
             ]
            ],
            "type": "heatmap"
           }
          ],
          "heatmapgl": [
           {
            "colorbar": {
             "outlinewidth": 0,
             "ticks": ""
            },
            "colorscale": [
             [
              0,
              "#0d0887"
             ],
             [
              0.1111111111111111,
              "#46039f"
             ],
             [
              0.2222222222222222,
              "#7201a8"
             ],
             [
              0.3333333333333333,
              "#9c179e"
             ],
             [
              0.4444444444444444,
              "#bd3786"
             ],
             [
              0.5555555555555556,
              "#d8576b"
             ],
             [
              0.6666666666666666,
              "#ed7953"
             ],
             [
              0.7777777777777778,
              "#fb9f3a"
             ],
             [
              0.8888888888888888,
              "#fdca26"
             ],
             [
              1,
              "#f0f921"
             ]
            ],
            "type": "heatmapgl"
           }
          ],
          "histogram": [
           {
            "marker": {
             "colorbar": {
              "outlinewidth": 0,
              "ticks": ""
             }
            },
            "type": "histogram"
           }
          ],
          "histogram2d": [
           {
            "colorbar": {
             "outlinewidth": 0,
             "ticks": ""
            },
            "colorscale": [
             [
              0,
              "#0d0887"
             ],
             [
              0.1111111111111111,
              "#46039f"
             ],
             [
              0.2222222222222222,
              "#7201a8"
             ],
             [
              0.3333333333333333,
              "#9c179e"
             ],
             [
              0.4444444444444444,
              "#bd3786"
             ],
             [
              0.5555555555555556,
              "#d8576b"
             ],
             [
              0.6666666666666666,
              "#ed7953"
             ],
             [
              0.7777777777777778,
              "#fb9f3a"
             ],
             [
              0.8888888888888888,
              "#fdca26"
             ],
             [
              1,
              "#f0f921"
             ]
            ],
            "type": "histogram2d"
           }
          ],
          "histogram2dcontour": [
           {
            "colorbar": {
             "outlinewidth": 0,
             "ticks": ""
            },
            "colorscale": [
             [
              0,
              "#0d0887"
             ],
             [
              0.1111111111111111,
              "#46039f"
             ],
             [
              0.2222222222222222,
              "#7201a8"
             ],
             [
              0.3333333333333333,
              "#9c179e"
             ],
             [
              0.4444444444444444,
              "#bd3786"
             ],
             [
              0.5555555555555556,
              "#d8576b"
             ],
             [
              0.6666666666666666,
              "#ed7953"
             ],
             [
              0.7777777777777778,
              "#fb9f3a"
             ],
             [
              0.8888888888888888,
              "#fdca26"
             ],
             [
              1,
              "#f0f921"
             ]
            ],
            "type": "histogram2dcontour"
           }
          ],
          "mesh3d": [
           {
            "colorbar": {
             "outlinewidth": 0,
             "ticks": ""
            },
            "type": "mesh3d"
           }
          ],
          "parcoords": [
           {
            "line": {
             "colorbar": {
              "outlinewidth": 0,
              "ticks": ""
             }
            },
            "type": "parcoords"
           }
          ],
          "pie": [
           {
            "automargin": true,
            "type": "pie"
           }
          ],
          "scatter": [
           {
            "marker": {
             "colorbar": {
              "outlinewidth": 0,
              "ticks": ""
             }
            },
            "type": "scatter"
           }
          ],
          "scatter3d": [
           {
            "line": {
             "colorbar": {
              "outlinewidth": 0,
              "ticks": ""
             }
            },
            "marker": {
             "colorbar": {
              "outlinewidth": 0,
              "ticks": ""
             }
            },
            "type": "scatter3d"
           }
          ],
          "scattercarpet": [
           {
            "marker": {
             "colorbar": {
              "outlinewidth": 0,
              "ticks": ""
             }
            },
            "type": "scattercarpet"
           }
          ],
          "scattergeo": [
           {
            "marker": {
             "colorbar": {
              "outlinewidth": 0,
              "ticks": ""
             }
            },
            "type": "scattergeo"
           }
          ],
          "scattergl": [
           {
            "marker": {
             "colorbar": {
              "outlinewidth": 0,
              "ticks": ""
             }
            },
            "type": "scattergl"
           }
          ],
          "scattermapbox": [
           {
            "marker": {
             "colorbar": {
              "outlinewidth": 0,
              "ticks": ""
             }
            },
            "type": "scattermapbox"
           }
          ],
          "scatterpolar": [
           {
            "marker": {
             "colorbar": {
              "outlinewidth": 0,
              "ticks": ""
             }
            },
            "type": "scatterpolar"
           }
          ],
          "scatterpolargl": [
           {
            "marker": {
             "colorbar": {
              "outlinewidth": 0,
              "ticks": ""
             }
            },
            "type": "scatterpolargl"
           }
          ],
          "scatterternary": [
           {
            "marker": {
             "colorbar": {
              "outlinewidth": 0,
              "ticks": ""
             }
            },
            "type": "scatterternary"
           }
          ],
          "surface": [
           {
            "colorbar": {
             "outlinewidth": 0,
             "ticks": ""
            },
            "colorscale": [
             [
              0,
              "#0d0887"
             ],
             [
              0.1111111111111111,
              "#46039f"
             ],
             [
              0.2222222222222222,
              "#7201a8"
             ],
             [
              0.3333333333333333,
              "#9c179e"
             ],
             [
              0.4444444444444444,
              "#bd3786"
             ],
             [
              0.5555555555555556,
              "#d8576b"
             ],
             [
              0.6666666666666666,
              "#ed7953"
             ],
             [
              0.7777777777777778,
              "#fb9f3a"
             ],
             [
              0.8888888888888888,
              "#fdca26"
             ],
             [
              1,
              "#f0f921"
             ]
            ],
            "type": "surface"
           }
          ],
          "table": [
           {
            "cells": {
             "fill": {
              "color": "#EBF0F8"
             },
             "line": {
              "color": "white"
             }
            },
            "header": {
             "fill": {
              "color": "#C8D4E3"
             },
             "line": {
              "color": "white"
             }
            },
            "type": "table"
           }
          ]
         },
         "layout": {
          "annotationdefaults": {
           "arrowcolor": "#2a3f5f",
           "arrowhead": 0,
           "arrowwidth": 1
          },
          "coloraxis": {
           "colorbar": {
            "outlinewidth": 0,
            "ticks": ""
           }
          },
          "colorscale": {
           "diverging": [
            [
             0,
             "#8e0152"
            ],
            [
             0.1,
             "#c51b7d"
            ],
            [
             0.2,
             "#de77ae"
            ],
            [
             0.3,
             "#f1b6da"
            ],
            [
             0.4,
             "#fde0ef"
            ],
            [
             0.5,
             "#f7f7f7"
            ],
            [
             0.6,
             "#e6f5d0"
            ],
            [
             0.7,
             "#b8e186"
            ],
            [
             0.8,
             "#7fbc41"
            ],
            [
             0.9,
             "#4d9221"
            ],
            [
             1,
             "#276419"
            ]
           ],
           "sequential": [
            [
             0,
             "#0d0887"
            ],
            [
             0.1111111111111111,
             "#46039f"
            ],
            [
             0.2222222222222222,
             "#7201a8"
            ],
            [
             0.3333333333333333,
             "#9c179e"
            ],
            [
             0.4444444444444444,
             "#bd3786"
            ],
            [
             0.5555555555555556,
             "#d8576b"
            ],
            [
             0.6666666666666666,
             "#ed7953"
            ],
            [
             0.7777777777777778,
             "#fb9f3a"
            ],
            [
             0.8888888888888888,
             "#fdca26"
            ],
            [
             1,
             "#f0f921"
            ]
           ],
           "sequentialminus": [
            [
             0,
             "#0d0887"
            ],
            [
             0.1111111111111111,
             "#46039f"
            ],
            [
             0.2222222222222222,
             "#7201a8"
            ],
            [
             0.3333333333333333,
             "#9c179e"
            ],
            [
             0.4444444444444444,
             "#bd3786"
            ],
            [
             0.5555555555555556,
             "#d8576b"
            ],
            [
             0.6666666666666666,
             "#ed7953"
            ],
            [
             0.7777777777777778,
             "#fb9f3a"
            ],
            [
             0.8888888888888888,
             "#fdca26"
            ],
            [
             1,
             "#f0f921"
            ]
           ]
          },
          "colorway": [
           "#636efa",
           "#EF553B",
           "#00cc96",
           "#ab63fa",
           "#FFA15A",
           "#19d3f3",
           "#FF6692",
           "#B6E880",
           "#FF97FF",
           "#FECB52"
          ],
          "font": {
           "color": "#2a3f5f"
          },
          "geo": {
           "bgcolor": "white",
           "lakecolor": "white",
           "landcolor": "#E5ECF6",
           "showlakes": true,
           "showland": true,
           "subunitcolor": "white"
          },
          "hoverlabel": {
           "align": "left"
          },
          "hovermode": "closest",
          "mapbox": {
           "style": "light"
          },
          "paper_bgcolor": "white",
          "plot_bgcolor": "#E5ECF6",
          "polar": {
           "angularaxis": {
            "gridcolor": "white",
            "linecolor": "white",
            "ticks": ""
           },
           "bgcolor": "#E5ECF6",
           "radialaxis": {
            "gridcolor": "white",
            "linecolor": "white",
            "ticks": ""
           }
          },
          "scene": {
           "xaxis": {
            "backgroundcolor": "#E5ECF6",
            "gridcolor": "white",
            "gridwidth": 2,
            "linecolor": "white",
            "showbackground": true,
            "ticks": "",
            "zerolinecolor": "white"
           },
           "yaxis": {
            "backgroundcolor": "#E5ECF6",
            "gridcolor": "white",
            "gridwidth": 2,
            "linecolor": "white",
            "showbackground": true,
            "ticks": "",
            "zerolinecolor": "white"
           },
           "zaxis": {
            "backgroundcolor": "#E5ECF6",
            "gridcolor": "white",
            "gridwidth": 2,
            "linecolor": "white",
            "showbackground": true,
            "ticks": "",
            "zerolinecolor": "white"
           }
          },
          "shapedefaults": {
           "line": {
            "color": "#2a3f5f"
           }
          },
          "ternary": {
           "aaxis": {
            "gridcolor": "white",
            "linecolor": "white",
            "ticks": ""
           },
           "baxis": {
            "gridcolor": "white",
            "linecolor": "white",
            "ticks": ""
           },
           "bgcolor": "#E5ECF6",
           "caxis": {
            "gridcolor": "white",
            "linecolor": "white",
            "ticks": ""
           }
          },
          "title": {
           "x": 0.05
          },
          "xaxis": {
           "automargin": true,
           "gridcolor": "white",
           "linecolor": "white",
           "ticks": "",
           "title": {
            "standoff": 15
           },
           "zerolinecolor": "white",
           "zerolinewidth": 2
          },
          "yaxis": {
           "automargin": true,
           "gridcolor": "white",
           "linecolor": "white",
           "ticks": "",
           "title": {
            "standoff": 15
           },
           "zerolinecolor": "white",
           "zerolinewidth": 2
          }
         }
        }
       }
      },
      "text/html": [
       "<div>\n",
       "        \n",
       "        \n",
       "            <div id=\"fbe8e27c-e9d4-41c4-ac3b-a6a8f8207cda\" class=\"plotly-graph-div\" style=\"height:525px; width:100%;\"></div>\n",
       "            <script type=\"text/javascript\">\n",
       "                require([\"plotly\"], function(Plotly) {\n",
       "                    window.PLOTLYENV=window.PLOTLYENV || {};\n",
       "                    \n",
       "                if (document.getElementById(\"fbe8e27c-e9d4-41c4-ac3b-a6a8f8207cda\")) {\n",
       "                    Plotly.newPlot(\n",
       "                        'fbe8e27c-e9d4-41c4-ac3b-a6a8f8207cda',\n",
       "                        [{\"customdata\": [[\"Afghanistan\", 4], [\"Albania\", 2], [\"Algeria\", 20], [\"Andorra\", 1], [\"Argentina\", 12], [\"Armenia\", 1], [\"Australia\", 91], [\"Austria\", 131], [\"Azerbaijan\", 9], [\"Bahrain\", 95], [\"Bangladesh\", 3], [\"Belarus\", 6], [\"Belgium\", 239], [\"Bhutan\", 1], [\"Bosnia and Herzegovina\", 3], [\"Brazil\", 25], [\"Brunei\", 1], [\"Bulgaria\", 4], [\"Cambodia\", 2], [\"Cameroon\", 2], [\"Canada\", 76], [\"Chile\", 8], [\"Colombia\", 1], [\"Costa Rica\", 9], [\"Croatia\", 12], [\"Cyprus\", 2], [\"Czech Republic\", 31], [\"Denmark\", 90], [\"Dominican Republic\", 5], [\"Ecuador\", 15], [\"Egypt\", 55], [\"Estonia\", 10], [\"Faroe Islands\", 2], [\"Finland\", 30], [\"France\", 1209], [\"French Guiana\", 5], [\"Georgia\", 15], [\"Germany\", 1176], [\"Gibraltar\", 1], [\"Greece\", 73], [\"Hong Kong\", 115], [\"Hungary\", 9], [\"Iceland\", 58], [\"India\", 43], [\"Indonesia\", 19], [\"Iran\", 7161], [\"Iraq\", 60], [\"Ireland\", 21], [\"Israel\", 39], [\"Italy\", 9172], [\"Japan\", 511], [\"Jordan\", 1], [\"Kuwait\", 64], [\"Latvia\", 6], [\"Lebanon\", 32], [\"Liechtenstein\", 1], [\"Lithuania\", 1], [\"Luxembourg\", 3], [\"Macau\", 10], [\"Mainland China\", 80735], [\"Malaysia\", 117], [\"Maldives\", 4], [\"Malta\", 3], [\"Martinique\", 2], [\"Mexico\", 7], [\"Moldova\", 1], [\"Monaco\", 1], [\"Morocco\", 2], [\"Nepal\", 1], [\"Netherlands\", 321], [\"New Zealand\", 5], [\"Nigeria\", 2], [\"North Macedonia\", 3], [\"Norway\", 205], [\"Oman\", 16], [\"Others\", 696], [\"Pakistan\", 6], [\"Palestine\", 22], [\"Paraguay\", 1], [\"Peru\", 7], [\"Philippines\", 20], [\"Poland\", 16], [\"Portugal\", 30], [\"Qatar\", 18], [\"Romania\", 15], [\"Russia\", 17], [\"Saint Barthelemy\", 1], [\"San Marino\", 36], [\"Saudi Arabia\", 15], [\"Senegal\", 4], [\"Serbia\", 1], [\"Singapore\", 150], [\"Slovakia\", 3], [\"Slovenia\", 16], [\"South Africa\", 3], [\"South Korea\", 7478], [\"Spain\", 1073], [\"Sri Lanka\", 1], [\"St. Martin\", 2], [\"Sweden\", 248], [\"Switzerland\", 374], [\"Taiwan\", 45], [\"Thailand\", 50], [\"Togo\", 1], [\"Tunisia\", 2], [\"UK\", 321], [\"US\", 605], [\"Ukraine\", 1], [\"United Arab Emirates\", 45], [\"Vatican City\", 1], [\"Vietnam\", 30]], \"geo\": \"geo\", \"hoverlabel\": {\"namelength\": 0}, \"hovertemplate\": \"<b>%{hovertext}</b><br><br>size=%{marker.size}<br>Country/Region=%{customdata[0]}<br>sum=%{customdata[1]}<br>Code=%{location}<br>color=%{marker.color}\", \"hovertext\": [\"Afghanistan\", \"Albania\", \"Algeria\", \"Andorra\", \"Argentina\", \"Armenia\", \"Australia\", \"Austria\", \"Azerbaijan\", \"Bahrain\", \"Bangladesh\", \"Belarus\", \"Belgium\", \"Bhutan\", \"Bosnia and Herzegovina\", \"Brazil\", \"Brunei\", \"Bulgaria\", \"Cambodia\", \"Cameroon\", \"Canada\", \"Chile\", \"Colombia\", \"Costa Rica\", \"Croatia\", \"Cyprus\", \"Czech Republic\", \"Denmark\", \"Dominican Republic\", \"Ecuador\", \"Egypt\", \"Estonia\", \"Faroe Islands\", \"Finland\", \"France\", \"French Guiana\", \"Georgia\", \"Germany\", \"Gibraltar\", \"Greece\", \"Hong Kong\", \"Hungary\", \"Iceland\", \"India\", \"Indonesia\", \"Iran\", \"Iraq\", \"Ireland\", \"Israel\", \"Italy\", \"Japan\", \"Jordan\", \"Kuwait\", \"Latvia\", \"Lebanon\", \"Liechtenstein\", \"Lithuania\", \"Luxembourg\", \"Macau\", \"Mainland China\", \"Malaysia\", \"Maldives\", \"Malta\", \"Martinique\", \"Mexico\", \"Moldova\", \"Monaco\", \"Morocco\", \"Nepal\", \"Netherlands\", \"New Zealand\", \"Nigeria\", \"North Macedonia\", \"Norway\", \"Oman\", \"Others\", \"Pakistan\", \"Palestine\", \"Paraguay\", \"Peru\", \"Philippines\", \"Poland\", \"Portugal\", \"Qatar\", \"Romania\", \"Russia\", \"Saint Barthelemy\", \"San Marino\", \"Saudi Arabia\", \"Senegal\", \"Serbia\", \"Singapore\", \"Slovakia\", \"Slovenia\", \"South Africa\", \"South Korea\", \"Spain\", \"Sri Lanka\", \"St. Martin\", \"Sweden\", \"Switzerland\", \"Taiwan\", \"Thailand\", \"Togo\", \"Tunisia\", \"UK\", \"US\", \"Ukraine\", \"United Arab Emirates\", \"Vatican City\", \"Vietnam\"], \"legendgroup\": \"\", \"locations\": [\"AFG\", \"ALB\", \"DZA\", \"AND\", \"ARG\", \"ARM\", \"AUS\", \"AUT\", \"AZE\", \"BHR\", \"BGD\", \"BLR\", \"BEL\", \"BTN\", \"BIH\", \"BRA\", \"BRN\", \"BGR\", \"KHM\", \"CMR\", \"CAN\", \"CHL\", \"COL\", \"CRI\", \"HRV\", \"CYP\", \"CZE\", \"DNK\", \"DOM\", \"ECU\", \"EGY\", \"EST\", \"FRO\", \"FIN\", \"FRA\", \"GUF\", \"GEO\", \"DEU\", \"GIB\", \"GRC\", \"HKG\", \"HUN\", \"ISL\", \"IND\", \"IDN\", \"IRN\", \"IRQ\", \"IRL\", \"ISR\", \"ITA\", \"JPN\", \"JOR\", \"KWT\", \"LVA\", \"LBN\", \"LIE\", \"LTU\", \"LUX\", \"MAC\", \"CHN\", \"MYS\", \"MDV\", \"MLT\", \"MTQ\", \"MEX\", \"MDA\", \"MCO\", \"MAR\", \"NPL\", \"NLD\", \"NZL\", \"NGA\", \"MKD\", \"NOR\", \"OMN\", null, \"PAK\", \"PSE\", \"PRY\", \"PER\", \"PHL\", \"POL\", \"PRT\", \"QAT\", \"ROU\", \"RUS\", \"FRA\", \"SMR\", \"SAU\", \"SEN\", \"SRB\", \"SGP\", \"SVK\", \"SVN\", \"ZAF\", \"KOR\", \"ESP\", \"LKA\", \"PYC\", \"SWE\", \"CHE\", \"TWN\", \"THA\", \"TGO\", \"TUN\", \"GBR\", \"USA\", \"UKR\", \"ARE\", \"ITA\", \"VNM\"], \"marker\": {\"color\": [1.3862943611198906, 0.6931471805599453, 2.995732273553991, 0.0, 2.4849066497880004, 0.0, 4.51085950651685, 4.875197323201151, 2.1972245773362196, 4.553876891600541, 1.0986122886681098, 1.791759469228055, 5.476463551931511, 0.0, 1.0986122886681098, 3.2188758248682006, 0.0, 1.3862943611198906, 0.6931471805599453, 0.6931471805599453, 4.330733340286331, 2.0794415416798357, 0.0, 2.1972245773362196, 2.4849066497880004, 0.6931471805599453, 3.4339872044851463, 4.499809670330265, 1.6094379124341003, 2.70805020110221, 4.007333185232471, 2.302585092994046, 0.6931471805599453, 3.4011973816621555, 7.097548850614793, 1.6094379124341003, 2.70805020110221, 7.069874128458572, 0.0, 4.290459441148391, 4.74493212836325, 2.1972245773362196, 4.060443010546419, 3.7612001156935624, 2.9444389791664403, 8.87640491500694, 4.0943445622221, 3.044522437723423, 3.6635616461296463, 9.123910643977796, 6.236369590203704, 0.0, 4.1588830833596715, 1.791759469228055, 3.4657359027997265, 0.0, 0.0, 1.0986122886681098, 2.302585092994046, 11.298927465315721, 4.762173934797756, 1.3862943611198906, 1.0986122886681098, 0.6931471805599453, 1.9459101490553132, 0.0, 0.0, 0.6931471805599453, 0.0, 5.771441123130016, 1.6094379124341003, 0.6931471805599453, 1.0986122886681098, 5.3230099791384085, 2.772588722239781, 6.54534966033442, 1.791759469228055, 3.091042453358316, 0.0, 1.9459101490553132, 2.995732273553991, 2.772588722239781, 3.4011973816621555, 2.8903717578961645, 2.70805020110221, 2.833213344056216, 0.0, 3.58351893845611, 2.70805020110221, 1.3862943611198906, 0.0, 5.0106352940962555, 1.0986122886681098, 2.772588722239781, 1.0986122886681098, 8.91972065553706, 6.9782137426306985, 0.0, 0.6931471805599453, 5.5134287461649825, 5.924255797414532, 3.8066624897703196, 3.912023005428146, 0.0, 0.6931471805599453, 5.771441123130016, 6.405228458030842, 0.0, 3.8066624897703196, 0.0, 3.4011973816621555], \"coloraxis\": \"coloraxis\", \"size\": [1.3862943611198906, 0.6931471805599453, 2.995732273553991, 0.0, 2.4849066497880004, 0.0, 4.51085950651685, 4.875197323201151, 2.1972245773362196, 4.553876891600541, 1.0986122886681098, 1.791759469228055, 5.476463551931511, 0.0, 1.0986122886681098, 3.2188758248682006, 0.0, 1.3862943611198906, 0.6931471805599453, 0.6931471805599453, 4.330733340286331, 2.0794415416798357, 0.0, 2.1972245773362196, 2.4849066497880004, 0.6931471805599453, 3.4339872044851463, 4.499809670330265, 1.6094379124341003, 2.70805020110221, 4.007333185232471, 2.302585092994046, 0.6931471805599453, 3.4011973816621555, 7.097548850614793, 1.6094379124341003, 2.70805020110221, 7.069874128458572, 0.0, 4.290459441148391, 4.74493212836325, 2.1972245773362196, 4.060443010546419, 3.7612001156935624, 2.9444389791664403, 8.87640491500694, 4.0943445622221, 3.044522437723423, 3.6635616461296463, 9.123910643977796, 6.236369590203704, 0.0, 4.1588830833596715, 1.791759469228055, 3.4657359027997265, 0.0, 0.0, 1.0986122886681098, 2.302585092994046, 11.298927465315721, 4.762173934797756, 1.3862943611198906, 1.0986122886681098, 0.6931471805599453, 1.9459101490553132, 0.0, 0.0, 0.6931471805599453, 0.0, 5.771441123130016, 1.6094379124341003, 0.6931471805599453, 1.0986122886681098, 5.3230099791384085, 2.772588722239781, 6.54534966033442, 1.791759469228055, 3.091042453358316, 0.0, 1.9459101490553132, 2.995732273553991, 2.772588722239781, 3.4011973816621555, 2.8903717578961645, 2.70805020110221, 2.833213344056216, 0.0, 3.58351893845611, 2.70805020110221, 1.3862943611198906, 0.0, 5.0106352940962555, 1.0986122886681098, 2.772588722239781, 1.0986122886681098, 8.91972065553706, 6.9782137426306985, 0.0, 0.6931471805599453, 5.5134287461649825, 5.924255797414532, 3.8066624897703196, 3.912023005428146, 0.0, 0.6931471805599453, 5.771441123130016, 6.405228458030842, 0.0, 3.8066624897703196, 0.0, 3.4011973816621555], \"sizemode\": \"area\", \"sizeref\": 0.028247318663289302}, \"name\": \"\", \"showlegend\": false, \"type\": \"scattergeo\"}],\n",
       "                        {\"coloraxis\": {\"colorbar\": {\"title\": {\"text\": \"color\"}}, \"colorscale\": [[0.0, \"#440154\"], [0.1111111111111111, \"#482878\"], [0.2222222222222222, \"#3e4989\"], [0.3333333333333333, \"#31688e\"], [0.4444444444444444, \"#26828e\"], [0.5555555555555556, \"#1f9e89\"], [0.6666666666666666, \"#35b779\"], [0.7777777777777778, \"#6ece58\"], [0.8888888888888888, \"#b5de2b\"], [1.0, \"#fde725\"]]}, \"geo\": {\"center\": {}, \"domain\": {\"x\": [0.0, 1.0], \"y\": [0.0, 1.0]}, \"projection\": {\"type\": \"natural earth\"}, \"resolution\": 110, \"showcountries\": true}, \"legend\": {\"itemsizing\": \"constant\", \"tracegroupgap\": 0}, \"margin\": {\"t\": 60}, \"template\": {\"data\": {\"bar\": [{\"error_x\": {\"color\": \"#2a3f5f\"}, \"error_y\": {\"color\": \"#2a3f5f\"}, \"marker\": {\"line\": {\"color\": \"#E5ECF6\", \"width\": 0.5}}, \"type\": \"bar\"}], \"barpolar\": [{\"marker\": {\"line\": {\"color\": \"#E5ECF6\", \"width\": 0.5}}, \"type\": \"barpolar\"}], \"carpet\": [{\"aaxis\": {\"endlinecolor\": \"#2a3f5f\", \"gridcolor\": \"white\", \"linecolor\": \"white\", \"minorgridcolor\": \"white\", \"startlinecolor\": \"#2a3f5f\"}, \"baxis\": {\"endlinecolor\": \"#2a3f5f\", \"gridcolor\": \"white\", \"linecolor\": \"white\", \"minorgridcolor\": \"white\", \"startlinecolor\": \"#2a3f5f\"}, \"type\": \"carpet\"}], \"choropleth\": [{\"colorbar\": {\"outlinewidth\": 0, \"ticks\": \"\"}, \"type\": \"choropleth\"}], \"contour\": [{\"colorbar\": {\"outlinewidth\": 0, \"ticks\": \"\"}, \"colorscale\": [[0.0, \"#0d0887\"], [0.1111111111111111, \"#46039f\"], [0.2222222222222222, \"#7201a8\"], [0.3333333333333333, \"#9c179e\"], [0.4444444444444444, \"#bd3786\"], [0.5555555555555556, \"#d8576b\"], [0.6666666666666666, \"#ed7953\"], [0.7777777777777778, \"#fb9f3a\"], [0.8888888888888888, \"#fdca26\"], [1.0, \"#f0f921\"]], \"type\": \"contour\"}], \"contourcarpet\": [{\"colorbar\": {\"outlinewidth\": 0, \"ticks\": \"\"}, \"type\": \"contourcarpet\"}], \"heatmap\": [{\"colorbar\": {\"outlinewidth\": 0, \"ticks\": \"\"}, \"colorscale\": [[0.0, \"#0d0887\"], [0.1111111111111111, \"#46039f\"], [0.2222222222222222, \"#7201a8\"], [0.3333333333333333, \"#9c179e\"], [0.4444444444444444, \"#bd3786\"], [0.5555555555555556, \"#d8576b\"], [0.6666666666666666, \"#ed7953\"], [0.7777777777777778, \"#fb9f3a\"], [0.8888888888888888, \"#fdca26\"], [1.0, \"#f0f921\"]], \"type\": \"heatmap\"}], \"heatmapgl\": [{\"colorbar\": {\"outlinewidth\": 0, \"ticks\": \"\"}, \"colorscale\": [[0.0, \"#0d0887\"], [0.1111111111111111, \"#46039f\"], [0.2222222222222222, \"#7201a8\"], [0.3333333333333333, \"#9c179e\"], [0.4444444444444444, \"#bd3786\"], [0.5555555555555556, \"#d8576b\"], [0.6666666666666666, \"#ed7953\"], [0.7777777777777778, \"#fb9f3a\"], [0.8888888888888888, \"#fdca26\"], [1.0, \"#f0f921\"]], \"type\": \"heatmapgl\"}], \"histogram\": [{\"marker\": {\"colorbar\": {\"outlinewidth\": 0, \"ticks\": \"\"}}, \"type\": \"histogram\"}], \"histogram2d\": [{\"colorbar\": {\"outlinewidth\": 0, \"ticks\": \"\"}, \"colorscale\": [[0.0, \"#0d0887\"], [0.1111111111111111, \"#46039f\"], [0.2222222222222222, \"#7201a8\"], [0.3333333333333333, \"#9c179e\"], [0.4444444444444444, \"#bd3786\"], [0.5555555555555556, \"#d8576b\"], [0.6666666666666666, \"#ed7953\"], [0.7777777777777778, \"#fb9f3a\"], [0.8888888888888888, \"#fdca26\"], [1.0, \"#f0f921\"]], \"type\": \"histogram2d\"}], \"histogram2dcontour\": [{\"colorbar\": {\"outlinewidth\": 0, \"ticks\": \"\"}, \"colorscale\": [[0.0, \"#0d0887\"], [0.1111111111111111, \"#46039f\"], [0.2222222222222222, \"#7201a8\"], [0.3333333333333333, \"#9c179e\"], [0.4444444444444444, \"#bd3786\"], [0.5555555555555556, \"#d8576b\"], [0.6666666666666666, \"#ed7953\"], [0.7777777777777778, \"#fb9f3a\"], [0.8888888888888888, \"#fdca26\"], [1.0, \"#f0f921\"]], \"type\": \"histogram2dcontour\"}], \"mesh3d\": [{\"colorbar\": {\"outlinewidth\": 0, \"ticks\": \"\"}, \"type\": \"mesh3d\"}], \"parcoords\": [{\"line\": {\"colorbar\": {\"outlinewidth\": 0, \"ticks\": \"\"}}, \"type\": \"parcoords\"}], \"pie\": [{\"automargin\": true, \"type\": \"pie\"}], \"scatter\": [{\"marker\": {\"colorbar\": {\"outlinewidth\": 0, \"ticks\": \"\"}}, \"type\": \"scatter\"}], \"scatter3d\": [{\"line\": {\"colorbar\": {\"outlinewidth\": 0, \"ticks\": \"\"}}, \"marker\": {\"colorbar\": {\"outlinewidth\": 0, \"ticks\": \"\"}}, \"type\": \"scatter3d\"}], \"scattercarpet\": [{\"marker\": {\"colorbar\": {\"outlinewidth\": 0, \"ticks\": \"\"}}, \"type\": \"scattercarpet\"}], \"scattergeo\": [{\"marker\": {\"colorbar\": {\"outlinewidth\": 0, \"ticks\": \"\"}}, \"type\": \"scattergeo\"}], \"scattergl\": [{\"marker\": {\"colorbar\": {\"outlinewidth\": 0, \"ticks\": \"\"}}, \"type\": \"scattergl\"}], \"scattermapbox\": [{\"marker\": {\"colorbar\": {\"outlinewidth\": 0, \"ticks\": \"\"}}, \"type\": \"scattermapbox\"}], \"scatterpolar\": [{\"marker\": {\"colorbar\": {\"outlinewidth\": 0, \"ticks\": \"\"}}, \"type\": \"scatterpolar\"}], \"scatterpolargl\": [{\"marker\": {\"colorbar\": {\"outlinewidth\": 0, \"ticks\": \"\"}}, \"type\": \"scatterpolargl\"}], \"scatterternary\": [{\"marker\": {\"colorbar\": {\"outlinewidth\": 0, \"ticks\": \"\"}}, \"type\": \"scatterternary\"}], \"surface\": [{\"colorbar\": {\"outlinewidth\": 0, \"ticks\": \"\"}, \"colorscale\": [[0.0, \"#0d0887\"], [0.1111111111111111, \"#46039f\"], [0.2222222222222222, \"#7201a8\"], [0.3333333333333333, \"#9c179e\"], [0.4444444444444444, \"#bd3786\"], [0.5555555555555556, \"#d8576b\"], [0.6666666666666666, \"#ed7953\"], [0.7777777777777778, \"#fb9f3a\"], [0.8888888888888888, \"#fdca26\"], [1.0, \"#f0f921\"]], \"type\": \"surface\"}], \"table\": [{\"cells\": {\"fill\": {\"color\": \"#EBF0F8\"}, \"line\": {\"color\": \"white\"}}, \"header\": {\"fill\": {\"color\": \"#C8D4E3\"}, \"line\": {\"color\": \"white\"}}, \"type\": \"table\"}]}, \"layout\": {\"annotationdefaults\": {\"arrowcolor\": \"#2a3f5f\", \"arrowhead\": 0, \"arrowwidth\": 1}, \"coloraxis\": {\"colorbar\": {\"outlinewidth\": 0, \"ticks\": \"\"}}, \"colorscale\": {\"diverging\": [[0, \"#8e0152\"], [0.1, \"#c51b7d\"], [0.2, \"#de77ae\"], [0.3, \"#f1b6da\"], [0.4, \"#fde0ef\"], [0.5, \"#f7f7f7\"], [0.6, \"#e6f5d0\"], [0.7, \"#b8e186\"], [0.8, \"#7fbc41\"], [0.9, \"#4d9221\"], [1, \"#276419\"]], \"sequential\": [[0.0, \"#0d0887\"], [0.1111111111111111, \"#46039f\"], [0.2222222222222222, \"#7201a8\"], [0.3333333333333333, \"#9c179e\"], [0.4444444444444444, \"#bd3786\"], [0.5555555555555556, \"#d8576b\"], [0.6666666666666666, \"#ed7953\"], [0.7777777777777778, \"#fb9f3a\"], [0.8888888888888888, \"#fdca26\"], [1.0, \"#f0f921\"]], \"sequentialminus\": [[0.0, \"#0d0887\"], [0.1111111111111111, \"#46039f\"], [0.2222222222222222, \"#7201a8\"], [0.3333333333333333, \"#9c179e\"], [0.4444444444444444, \"#bd3786\"], [0.5555555555555556, \"#d8576b\"], [0.6666666666666666, \"#ed7953\"], [0.7777777777777778, \"#fb9f3a\"], [0.8888888888888888, \"#fdca26\"], [1.0, \"#f0f921\"]]}, \"colorway\": [\"#636efa\", \"#EF553B\", \"#00cc96\", \"#ab63fa\", \"#FFA15A\", \"#19d3f3\", \"#FF6692\", \"#B6E880\", \"#FF97FF\", \"#FECB52\"], \"font\": {\"color\": \"#2a3f5f\"}, \"geo\": {\"bgcolor\": \"white\", \"lakecolor\": \"white\", \"landcolor\": \"#E5ECF6\", \"showlakes\": true, \"showland\": true, \"subunitcolor\": \"white\"}, \"hoverlabel\": {\"align\": \"left\"}, \"hovermode\": \"closest\", \"mapbox\": {\"style\": \"light\"}, \"paper_bgcolor\": \"white\", \"plot_bgcolor\": \"#E5ECF6\", \"polar\": {\"angularaxis\": {\"gridcolor\": \"white\", \"linecolor\": \"white\", \"ticks\": \"\"}, \"bgcolor\": \"#E5ECF6\", \"radialaxis\": {\"gridcolor\": \"white\", \"linecolor\": \"white\", \"ticks\": \"\"}}, \"scene\": {\"xaxis\": {\"backgroundcolor\": \"#E5ECF6\", \"gridcolor\": \"white\", \"gridwidth\": 2, \"linecolor\": \"white\", \"showbackground\": true, \"ticks\": \"\", \"zerolinecolor\": \"white\"}, \"yaxis\": {\"backgroundcolor\": \"#E5ECF6\", \"gridcolor\": \"white\", \"gridwidth\": 2, \"linecolor\": \"white\", \"showbackground\": true, \"ticks\": \"\", \"zerolinecolor\": \"white\"}, \"zaxis\": {\"backgroundcolor\": \"#E5ECF6\", \"gridcolor\": \"white\", \"gridwidth\": 2, \"linecolor\": \"white\", \"showbackground\": true, \"ticks\": \"\", \"zerolinecolor\": \"white\"}}, \"shapedefaults\": {\"line\": {\"color\": \"#2a3f5f\"}}, \"ternary\": {\"aaxis\": {\"gridcolor\": \"white\", \"linecolor\": \"white\", \"ticks\": \"\"}, \"baxis\": {\"gridcolor\": \"white\", \"linecolor\": \"white\", \"ticks\": \"\"}, \"bgcolor\": \"#E5ECF6\", \"caxis\": {\"gridcolor\": \"white\", \"linecolor\": \"white\", \"ticks\": \"\"}}, \"title\": {\"x\": 0.05}, \"xaxis\": {\"automargin\": true, \"gridcolor\": \"white\", \"linecolor\": \"white\", \"ticks\": \"\", \"title\": {\"standoff\": 15}, \"zerolinecolor\": \"white\", \"zerolinewidth\": 2}, \"yaxis\": {\"automargin\": true, \"gridcolor\": \"white\", \"linecolor\": \"white\", \"ticks\": \"\", \"title\": {\"standoff\": 15}, \"zerolinecolor\": \"white\", \"zerolinewidth\": 2}}}},\n",
       "                        {\"responsive\": true}\n",
       "                    ).then(function(){\n",
       "                            \n",
       "var gd = document.getElementById('fbe8e27c-e9d4-41c4-ac3b-a6a8f8207cda');\n",
       "var x = new MutationObserver(function (mutations, observer) {{\n",
       "        var display = window.getComputedStyle(gd).display;\n",
       "        if (!display || display === 'none') {{\n",
       "            console.log([gd, 'removed!']);\n",
       "            Plotly.purge(gd);\n",
       "            observer.disconnect();\n",
       "        }}\n",
       "}});\n",
       "\n",
       "// Listen for the removal of the full notebook cells\n",
       "var notebookContainer = gd.closest('#notebook-container');\n",
       "if (notebookContainer) {{\n",
       "    x.observe(notebookContainer, {childList: true});\n",
       "}}\n",
       "\n",
       "// Listen for the clearing of the current output cell\n",
       "var outputEl = gd.closest('.output');\n",
       "if (outputEl) {{\n",
       "    x.observe(outputEl, {childList: true});\n",
       "}}\n",
       "\n",
       "                        })\n",
       "                };\n",
       "                });\n",
       "            </script>\n",
       "        </div>"
      ]
     },
     "metadata": {},
     "output_type": "display_data"
    }
   ],
   "source": [
    "fig = px.scatter_geo(agg_latest_data, locations='Code', color=np.log(agg_latest_data['sum']), \n",
    "                     size=np.log(agg_latest_data['sum']), hover_name='Country/Region', \n",
    "                     hover_data = ['Country/Region', 'sum'],\n",
    "                     projection=\"natural earth\", color_continuous_scale = 'Viridis')\n",
    "fig.update_geos(resolution=110,\n",
    "    showcountries=True)\n",
    "fig.show()"
   ]
  },
  {
   "cell_type": "code",
   "execution_count": null,
   "metadata": {},
   "outputs": [],
   "source": []
  },
  {
   "cell_type": "code",
   "execution_count": null,
   "metadata": {},
   "outputs": [],
   "source": []
  }
 ],
 "metadata": {
  "kernelspec": {
   "display_name": "Python 3",
   "language": "python",
   "name": "python3"
  },
  "language_info": {
   "codemirror_mode": {
    "name": "ipython",
    "version": 3
   },
   "file_extension": ".py",
   "mimetype": "text/x-python",
   "name": "python",
   "nbconvert_exporter": "python",
   "pygments_lexer": "ipython3",
   "version": "3.6.4"
  }
 },
 "nbformat": 4,
 "nbformat_minor": 2
}
